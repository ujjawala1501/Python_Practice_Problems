{
  "nbformat": 4,
  "nbformat_minor": 0,
  "metadata": {
    "colab": {
      "provenance": [],
      "collapsed_sections": [],
      "authorship_tag": "ABX9TyNwRdgSzwP0rCfvj87RNc9K",
      "include_colab_link": true
    },
    "kernelspec": {
      "name": "python3",
      "display_name": "Python 3"
    },
    "language_info": {
      "name": "python"
    }
  },
  "cells": [
    {
      "cell_type": "markdown",
      "metadata": {
        "id": "view-in-github",
        "colab_type": "text"
      },
      "source": [
        "<a href=\"https://colab.research.google.com/github/ujjawala1501/Python_Practice_Problems/blob/main/String.ipynb\" target=\"_parent\"><img src=\"https://colab.research.google.com/assets/colab-badge.svg\" alt=\"Open In Colab\"/></a>"
      ]
    },
    {
      "cell_type": "markdown",
      "source": [
        "**Question 4**\n",
        "You are given lowercase string (A) and you have to return after reversing that."
      ],
      "metadata": {
        "id": "6AdxHOpP2Rq_"
      }
    },
    {
      "cell_type": "code",
      "source": [
        "'''def solve(A):\n",
        "        ans = \"\"\n",
        "        for i in range(0,len(A)):\n",
        "            ans += A[len(A)-i-1]\n",
        "        return ans\n",
        "print(solve(\"string\"))\n",
        "'''\n",
        "\n",
        "#Alter\n",
        "'''A[::-1]'''\n",
        "#Alter\n",
        "A=\"string\"\n",
        "for i in range (len(A)-1,-1,-1):\n",
        "  print (A[i],end=\"\")\n"
      ],
      "metadata": {
        "colab": {
          "base_uri": "https://localhost:8080/"
        },
        "id": "FZtJj0MNz73g",
        "outputId": "e5745328-2e23-4f5b-bd7c-57c3b85ecccc"
      },
      "execution_count": 5,
      "outputs": [
        {
          "output_type": "stream",
          "name": "stdout",
          "text": [
            "gnirts"
          ]
        }
      ]
    },
    {
      "cell_type": "markdown",
      "source": [
        "**Question 1**\n",
        "\n",
        "You are given lowercase string (A) and you have to return after converting that in upercase form."
      ],
      "metadata": {
        "id": "b_j3Hj3v3BD4"
      }
    },
    {
      "cell_type": "code",
      "source": [
        "def solve(A):\n",
        "        ans = \"\"\n",
        "        for i in range(0,len(A)):\n",
        "            ans += chr(ord(A[i]) + ord('A') - ord('a'))\n",
        "        return ans\n",
        "solve(\"shirts\")"
      ],
      "metadata": {
        "colab": {
          "base_uri": "https://localhost:8080/",
          "height": 36
        },
        "id": "ym235aFM2gMB",
        "outputId": "fb75629f-c493-44fa-f0cb-bd89586eb1df"
      },
      "execution_count": 6,
      "outputs": [
        {
          "output_type": "execute_result",
          "data": {
            "text/plain": [
              "'SHIRTS'"
            ],
            "application/vnd.google.colaboratory.intrinsic+json": {
              "type": "string"
            }
          },
          "metadata": {},
          "execution_count": 6
        }
      ]
    },
    {
      "cell_type": "markdown",
      "source": [
        "**Question 2**\n",
        "\n",
        "You are given uppercase string (A) and you have to return after converting that in lowercase form."
      ],
      "metadata": {
        "id": "viApzSzLA3Qx"
      }
    },
    {
      "cell_type": "code",
      "source": [
        "def solve(A):\n",
        "        ans = \"\"\n",
        "        for i in range(0,len(A)):\n",
        "            ans += chr(ord(A[i]) + ord('a') - ord('A'))\n",
        "        return ans\n",
        "\n",
        "print(solve(\"SHRUGS\"))"
      ],
      "metadata": {
        "colab": {
          "base_uri": "https://localhost:8080/"
        },
        "id": "KgSklPzyA2J3",
        "outputId": "9581f3e3-a345-40cb-e67e-55f0907890c9"
      },
      "execution_count": 7,
      "outputs": [
        {
          "output_type": "stream",
          "name": "stdout",
          "text": [
            "shrugs\n"
          ]
        }
      ]
    },
    {
      "cell_type": "markdown",
      "source": [
        "**Question 3**\n",
        "\n",
        "You are given lowercase string (A) and you have to tell count of vowels and consonants in it."
      ],
      "metadata": {
        "id": "7539Hht0E-4l"
      }
    },
    {
      "cell_type": "code",
      "source": [
        "def solve(A):\n",
        "        C=[0,0]\n",
        "        A=A.lower()\n",
        "        vow=0\n",
        "        const=0\n",
        "        for i in A:\n",
        "            if i=='a' or i=='e' or i=='o' or i=='i' or i=='u':\n",
        "                vow+=1\n",
        "            else:\n",
        "                const+=1\n",
        "        C[0]=vow\n",
        "        C[1]=const\n",
        "        return C\n",
        "\n",
        "solve(\"interviewbit\")"
      ],
      "metadata": {
        "colab": {
          "base_uri": "https://localhost:8080/"
        },
        "id": "ZRlVgu59Ew9q",
        "outputId": "c10fc444-4b81-433d-cf40-6fc77d91ae6f"
      },
      "execution_count": 8,
      "outputs": [
        {
          "output_type": "execute_result",
          "data": {
            "text/plain": [
              "[5, 7]"
            ]
          },
          "metadata": {},
          "execution_count": 8
        }
      ]
    },
    {
      "cell_type": "code",
      "source": [],
      "metadata": {
        "id": "8n19AQSzFJMu"
      },
      "execution_count": null,
      "outputs": []
    }
  ]
}