{
  "cells": [
    {
      "cell_type": "markdown",
      "metadata": {
        "id": "view-in-github",
        "colab_type": "text"
      },
      "source": [
        "<a href=\"https://colab.research.google.com/github/ujjawala1501/Python_Practice_Problems/blob/main/Scaler_python.ipynb\" target=\"_parent\"><img src=\"https://colab.research.google.com/assets/colab-badge.svg\" alt=\"Open In Colab\"/></a>"
      ]
    },
    {
      "cell_type": "code",
      "execution_count": null,
      "metadata": {
        "colab": {
          "base_uri": "https://localhost:8080/"
        },
        "id": "pT9lW_cakJfA",
        "outputId": "8a113f81-d33f-4d9a-a217-a53631a1bebf"
      },
      "outputs": [
        {
          "name": "stdout",
          "output_type": "stream",
          "text": [
            "-3\n"
          ]
        }
      ],
      "source": [
        "a = 6\n",
        "a -= 9\n",
        "print(a)"
      ]
    },
    {
      "cell_type": "code",
      "execution_count": null,
      "metadata": {
        "colab": {
          "base_uri": "https://localhost:8080/"
        },
        "id": "85hPJ3V1zlBR",
        "outputId": "6b72e95a-57e2-4551-c2d3-aa12b6e63d45"
      },
      "outputs": [
        {
          "name": "stdout",
          "output_type": "stream",
          "text": [
            "rahul\n",
            "Hello rahul\n"
          ]
        }
      ],
      "source": [
        "A=input()\n",
        "print(\"Hello \"+A)"
      ]
    },
    {
      "cell_type": "code",
      "execution_count": null,
      "metadata": {
        "colab": {
          "base_uri": "https://localhost:8080/"
        },
        "id": "vuhIBZKozmpf",
        "outputId": "e8237c5b-90fb-4f78-d3ea-b42ef3edad35"
      },
      "outputs": [
        {
          "name": "stdout",
          "output_type": "stream",
          "text": [
            "rahul\n",
            "Hello rahul\n"
          ]
        }
      ],
      "source": [
        "A=input()\n",
        "print(f\"Hello {A}\")"
      ]
    },
    {
      "cell_type": "code",
      "execution_count": null,
      "metadata": {
        "colab": {
          "base_uri": "https://localhost:8080/"
        },
        "id": "Dx-cbLN4kMIH",
        "outputId": "f01d3406-4549-4bdf-9743-59f49e966fa6"
      },
      "outputs": [
        {
          "name": "stdout",
          "output_type": "stream",
          "text": [
            "rahul\n",
            "\"Hello rahul\"\n"
          ]
        }
      ],
      "source": [
        "A=input()\n",
        "print('\"Hello ' + A + '\"')"
      ]
    },
    {
      "cell_type": "code",
      "source": [
        "A=\"anand\"\n",
        "print(\"Hello\",A)"
      ],
      "metadata": {
        "colab": {
          "base_uri": "https://localhost:8080/"
        },
        "id": "9vc8tGdZAb-s",
        "outputId": "d70c304c-311a-48e1-e9f2-861aad3c12bc"
      },
      "execution_count": null,
      "outputs": [
        {
          "output_type": "stream",
          "name": "stdout",
          "text": [
            "Hello anand\n"
          ]
        }
      ]
    },
    {
      "cell_type": "code",
      "execution_count": null,
      "metadata": {
        "colab": {
          "base_uri": "https://localhost:8080/"
        },
        "id": "VSmCzgDzmi2O",
        "outputId": "97a9bc45-443b-4fde-81f2-7cbb75bc34d2"
      },
      "outputs": [
        {
          "name": "stdout",
          "output_type": "stream",
          "text": [
            "A\n",
            "B\n",
            "B\n",
            "C\n",
            "D\n",
            "E\n"
          ]
        }
      ],
      "source": [
        "print(\"A\\nB\\nB\\nC\\nD\\nE\") "
      ]
    },
    {
      "cell_type": "code",
      "execution_count": null,
      "metadata": {
        "colab": {
          "base_uri": "https://localhost:8080/"
        },
        "id": "7yzfAsKW4J71",
        "outputId": "33874fbe-2c1d-47c2-9df0-44e89c93e631"
      },
      "outputs": [
        {
          "name": "stdout",
          "output_type": "stream",
          "text": [
            "30\n",
            "10\n"
          ]
        }
      ],
      "source": [
        "N=40\n",
        "act_time=int(input())\n",
        "print(40-act_time)"
      ]
    },
    {
      "cell_type": "code",
      "execution_count": null,
      "metadata": {
        "colab": {
          "base_uri": "https://localhost:8080/"
        },
        "id": "QTZcb9EA6qZg",
        "outputId": "877ccfc4-9cb5-4f35-be83-f337359b1dbf"
      },
      "outputs": [
        {
          "name": "stdout",
          "output_type": "stream",
          "text": [
            "enter how many layers in your lasagna2\n",
            "4\n"
          ]
        }
      ],
      "source": [
        "bake_time_fr_each_lyr = 2\n",
        "layers=int(input(\"enter how many layers in your lasagna\"))\n",
        "print(bake_time_fr_each_lyr * layers)"
      ]
    },
    {
      "cell_type": "code",
      "execution_count": null,
      "metadata": {
        "colab": {
          "base_uri": "https://localhost:8080/"
        },
        "id": "2PnQ3YNe7P8C",
        "outputId": "b52b0dfe-7436-46b0-e819-c7e9072a5c0e"
      },
      "outputs": [
        {
          "name": "stdout",
          "output_type": "stream",
          "text": [
            "1\n",
            "29\n",
            "31\n"
          ]
        }
      ],
      "source": [
        "N=int(input())\n",
        "M=int(input())\n",
        "print((N*2)+M)"
      ]
    },
    {
      "cell_type": "code",
      "execution_count": null,
      "metadata": {
        "colab": {
          "base_uri": "https://localhost:8080/"
        },
        "id": "UcQ4NSXR8V_2",
        "outputId": "e533043e-1084-4d2e-8a57-9f4133fe21ba"
      },
      "outputs": [
        {
          "name": "stdout",
          "output_type": "stream",
          "text": [
            "5\n"
          ]
        }
      ],
      "source": [
        "print(103%7)"
      ]
    },
    {
      "cell_type": "code",
      "execution_count": null,
      "metadata": {
        "colab": {
          "base_uri": "https://localhost:8080/"
        },
        "id": "LC_afCEyDqrL",
        "outputId": "58808e13-2227-491b-cfc8-cc2a6947c2b4"
      },
      "outputs": [
        {
          "data": {
            "text/plain": [
              "1"
            ]
          },
          "execution_count": 2,
          "metadata": {},
          "output_type": "execute_result"
        }
      ],
      "source": [
        "99%7"
      ]
    },
    {
      "cell_type": "code",
      "execution_count": null,
      "metadata": {
        "colab": {
          "base_uri": "https://localhost:8080/"
        },
        "id": "oerVBWAyEH-V",
        "outputId": "e470a791-b2ab-4b41-e015-103bb74b556d"
      },
      "outputs": [
        {
          "name": "stdout",
          "output_type": "stream",
          "text": [
            "729\n"
          ]
        }
      ],
      "source": [
        "x = 11\n",
        "y = 2\n",
        "z = 4\n",
        "res = (x + y - z) ** (x % z)\n",
        "print(res)"
      ]
    },
    {
      "cell_type": "code",
      "execution_count": null,
      "metadata": {
        "colab": {
          "base_uri": "https://localhost:8080/"
        },
        "id": "ljYZS4y1Fk1T",
        "outputId": "2c963ff9-218f-4b23-c064-3ee249fe501f"
      },
      "outputs": [
        {
          "data": {
            "text/plain": [
              "int"
            ]
          },
          "execution_count": 5,
          "metadata": {},
          "output_type": "execute_result"
        }
      ],
      "source": [
        "x=int(\"5\")\n",
        "type(x)"
      ]
    },
    {
      "cell_type": "code",
      "execution_count": null,
      "metadata": {
        "colab": {
          "base_uri": "https://localhost:8080/"
        },
        "id": "L4L8EM6aK_D5",
        "outputId": "ed743b4a-3671-495c-bbdf-84b937c804fb"
      },
      "outputs": [
        {
          "name": "stdout",
          "output_type": "stream",
          "text": [
            "1\n"
          ]
        }
      ],
      "source": [
        "print(int(True))\n"
      ]
    },
    {
      "cell_type": "code",
      "execution_count": null,
      "metadata": {
        "colab": {
          "base_uri": "https://localhost:8080/"
        },
        "id": "rTu7XXHCM66n",
        "outputId": "de02bfbb-ff40-4cd4-9ee7-cff8d1131ed8"
      },
      "outputs": [
        {
          "name": "stdout",
          "output_type": "stream",
          "text": [
            "True\n"
          ]
        }
      ],
      "source": [
        "print(bool('false'))"
      ]
    },
    {
      "cell_type": "code",
      "execution_count": null,
      "metadata": {
        "colab": {
          "base_uri": "https://localhost:8080/"
        },
        "id": "crIvEDjhNYb5",
        "outputId": "96236197-d232-46aa-eb56-012d9965ff42"
      },
      "outputs": [
        {
          "data": {
            "text/plain": [
              "False"
            ]
          },
          "execution_count": 8,
          "metadata": {},
          "output_type": "execute_result"
        }
      ],
      "source": [
        "bool(0)"
      ]
    },
    {
      "cell_type": "code",
      "execution_count": null,
      "metadata": {
        "colab": {
          "base_uri": "https://localhost:8080/"
        },
        "id": "kB61JofkN_iw",
        "outputId": "9f959531-9929-4eb8-fa20-da8ebb3ccf2c"
      },
      "outputs": [
        {
          "data": {
            "text/plain": [
              "True"
            ]
          },
          "execution_count": 9,
          "metadata": {},
          "output_type": "execute_result"
        }
      ],
      "source": [
        "bool(1)"
      ]
    },
    {
      "cell_type": "code",
      "execution_count": null,
      "metadata": {
        "colab": {
          "base_uri": "https://localhost:8080/"
        },
        "id": "rRTCU9hvOBZF",
        "outputId": "c59bff72-324d-467e-e6c4-bc2bc8ad87b1"
      },
      "outputs": [
        {
          "name": "stdout",
          "output_type": "stream",
          "text": [
            "False\n"
          ]
        }
      ],
      "source": [
        "print('2' == 2)"
      ]
    },
    {
      "cell_type": "code",
      "execution_count": null,
      "metadata": {
        "colab": {
          "base_uri": "https://localhost:8080/"
        },
        "id": "k1jTfdsYTWN9",
        "outputId": "1e5abc94-dfe6-4fc2-e97b-acf082964c78"
      },
      "outputs": [
        {
          "name": "stdout",
          "output_type": "stream",
          "text": [
            "10\n"
          ]
        },
        {
          "data": {
            "text/plain": [
              "NoneType"
            ]
          },
          "execution_count": 11,
          "metadata": {},
          "output_type": "execute_result"
        }
      ],
      "source": [
        "type(print(10))"
      ]
    },
    {
      "cell_type": "code",
      "execution_count": null,
      "metadata": {
        "colab": {
          "base_uri": "https://localhost:8080/",
          "height": 200
        },
        "id": "Wk03qAMxWBIn",
        "outputId": "ac732344-b4ee-44f9-ede8-d1ea777d11d2"
      },
      "outputs": [
        {
          "ename": "NameError",
          "evalue": "ignored",
          "output_type": "error",
          "traceback": [
            "\u001b[0;31m---------------------------------------------------------------------------\u001b[0m",
            "\u001b[0;31mNameError\u001b[0m                                 Traceback (most recent call last)",
            "\u001b[0;32m<ipython-input-1-0511f7c0eac6>\u001b[0m in \u001b[0;36m<module>\u001b[0;34m\u001b[0m\n\u001b[1;32m      2\u001b[0m \u001b[0my\u001b[0m \u001b[0;34m=\u001b[0m \u001b[0;36m5\u001b[0m\u001b[0;34m\u001b[0m\u001b[0;34m\u001b[0m\u001b[0m\n\u001b[1;32m      3\u001b[0m \u001b[0mresult\u001b[0m \u001b[0;34m=\u001b[0m \u001b[0;34m(\u001b[0m\u001b[0mx\u001b[0m \u001b[0;34m+\u001b[0m \u001b[0;32mTrue\u001b[0m\u001b[0;34m)\u001b[0m \u001b[0;34m/\u001b[0m \u001b[0;34m(\u001b[0m\u001b[0;36m4\u001b[0m \u001b[0;34m-\u001b[0m \u001b[0my\u001b[0m \u001b[0;34m*\u001b[0m \u001b[0;32mFalse\u001b[0m\u001b[0;34m)\u001b[0m\u001b[0;34m\u001b[0m\u001b[0;34m\u001b[0m\u001b[0m\n\u001b[0;32m----> 4\u001b[0;31m \u001b[0mprint\u001b[0m\u001b[0;34m(\u001b[0m\u001b[0mfloor\u001b[0m\u001b[0;34m(\u001b[0m\u001b[0mresult\u001b[0m\u001b[0;34m)\u001b[0m\u001b[0;34m)\u001b[0m\u001b[0;34m\u001b[0m\u001b[0;34m\u001b[0m\u001b[0m\n\u001b[0m",
            "\u001b[0;31mNameError\u001b[0m: name 'floor' is not defined"
          ]
        }
      ],
      "source": [
        "x = 20\n",
        "y = 5\n",
        "result = (x + True) / (4 - y * False)\n",
        "print(floor(result)) # threw error because math module needed to be imported and then to use floor do -math.floor"
      ]
    },
    {
      "cell_type": "code",
      "execution_count": null,
      "metadata": {
        "colab": {
          "base_uri": "https://localhost:8080/"
        },
        "id": "6vvG3gFjE_4p",
        "outputId": "466d1c20-259a-4536-bd2e-52731ef2941b"
      },
      "outputs": [
        {
          "name": "stdout",
          "output_type": "stream",
          "text": [
            "80\n",
            "27\n",
            "54\n",
            "61\n",
            "False\n"
          ]
        }
      ],
      "source": [
        "sub1_clsA=int(input())\n",
        "sub2_clsA=int(input())\n",
        "sub1_clsB=int(input())\n",
        "sub2_clsB=int(input())\n",
        "\n",
        "if ((sub1_clsA+sub2_clsA)/2)>((sub1_clsB+sub2_clsB)/2):\n",
        "    print (True)\n",
        "else:\n",
        "    print (False)"
      ]
    },
    {
      "cell_type": "markdown",
      "source": [
        "Assignment Question"
      ],
      "metadata": {
        "id": "5HWJqfWOC97W"
      }
    },
    {
      "cell_type": "code",
      "execution_count": null,
      "metadata": {
        "colab": {
          "base_uri": "https://localhost:8080/"
        },
        "id": "Xg8huzPYzYBl",
        "outputId": "eb33c4b5-a944-4118-a9b3-ee77aa3b8a2e"
      },
      "outputs": [
        {
          "output_type": "stream",
          "name": "stdout",
          "text": [
            "Java\n",
            "Nice Choice\n"
          ]
        }
      ],
      "source": [
        "lang = input() \n",
        "if lang == \"Python\" or lang == \"Java\":\n",
        "  print(\"Nice Choice\")\n",
        "elif lang == \"C++\":\n",
        "  print(\"I am speed\")\n",
        "elif lang == \"Javascript\":\n",
        "  print(\"Oh. You are a web developer\")\n",
        "elif lang == \"Golang\":\n",
        "  print(\"You are a cool person\")\n",
        "else:\n",
        "  print(\"I don't know that language\")"
      ]
    },
    {
      "cell_type": "code",
      "execution_count": null,
      "metadata": {
        "colab": {
          "base_uri": "https://localhost:8080/"
        },
        "id": "AMufzpWn3FzT",
        "outputId": "4474c19b-9c32-402d-a7a8-f217afd5189e"
      },
      "outputs": [
        {
          "name": "stdout",
          "output_type": "stream",
          "text": [
            "Machine Learning\n"
          ]
        }
      ],
      "source": [
        "if False:                     \n",
        "    print(\"Artificial Intelligence\")\n",
        "elif True:\n",
        "    print(\"Machine Learning\")\n",
        "elif True:\n",
        "    print(\"Data Science\")\n",
        "else:\n",
        "    print(\"Deep Learning\") "
      ]
    },
    {
      "cell_type": "code",
      "execution_count": null,
      "metadata": {
        "colab": {
          "base_uri": "https://localhost:8080/"
        },
        "id": "a6Km0qW-3e0Y",
        "outputId": "caefe1ae-f16e-46b7-e95a-0b08b6fcaa31"
      },
      "outputs": [
        {
          "name": "stdout",
          "output_type": "stream",
          "text": [
            "ML is fun\n",
            "I love DS\n"
          ]
        }
      ],
      "source": [
        "a = 1    #1-TRUE  2-FALSE and is following 'AND' rule TRUE and True=True and any other condition.\n",
        "b = 0\n",
        "c = 1\n",
        "if (a and b):\n",
        "    print(\"Scaler is awesome\")\n",
        "elif (a and c):\n",
        "    print(\"ML is fun\")\n",
        "if (a and b and c):\n",
        "    print(\"Python is amazing\")\n",
        "if (a or b or c):\n",
        "    print(\"I love DS\")"
      ]
    },
    {
      "cell_type": "markdown",
      "source": [
        "**FIZZ BUZZ always check for multiple condition first**"
      ],
      "metadata": {
        "id": "sCc-yYMbEVRe"
      }
    },
    {
      "cell_type": "code",
      "execution_count": null,
      "metadata": {
        "colab": {
          "base_uri": "https://localhost:8080/"
        },
        "id": "5nWhAhLG7pk4",
        "outputId": "c9a80a26-70c9-4724-e00e-f384f37103ed"
      },
      "outputs": [
        {
          "name": "stdout",
          "output_type": "stream",
          "text": [
            "5\n",
            "Buzz\n"
          ]
        }
      ],
      "source": [
        "N = int(input())  \n",
        "if N%3==0 and N%5==0:\n",
        "  print(\"FizzBuzz\")\n",
        "elif N%3==0:\n",
        "  print(\"Fizz\")\n",
        "elif N%5==0:\n",
        "  print(\"Buzz\")"
      ]
    },
    {
      "cell_type": "markdown",
      "source": [
        "**RANGE AND MATH FOR PROGRAMMERS**"
      ],
      "metadata": {
        "id": "_tWxhG3mEoIz"
      }
    },
    {
      "cell_type": "code",
      "execution_count": null,
      "metadata": {
        "id": "ynatBP1fBbHX"
      },
      "outputs": [],
      "source": [
        "a=list(range(1,8))  #range(start,stop,step)"
      ]
    },
    {
      "cell_type": "code",
      "execution_count": null,
      "metadata": {
        "colab": {
          "base_uri": "https://localhost:8080/"
        },
        "id": "TdrAdHOHXmqp",
        "outputId": "09f3d3d9-94e5-4a79-c456-16b43b3d6873"
      },
      "outputs": [
        {
          "name": "stdout",
          "output_type": "stream",
          "text": [
            "[1, 2, 3, 4, 5, 6, 7]\n"
          ]
        }
      ],
      "source": [
        "print(a)"
      ]
    },
    {
      "cell_type": "code",
      "execution_count": null,
      "metadata": {
        "colab": {
          "base_uri": "https://localhost:8080/"
        },
        "id": "gAP3BUzVYvlF",
        "outputId": "b98dee43-c895-4a61-c1ea-6f30b43296d7"
      },
      "outputs": [
        {
          "name": "stdout",
          "output_type": "stream",
          "text": [
            "3.0\n"
          ]
        }
      ],
      "source": [
        "import math\n",
        "print(math.log10(1000))"
      ]
    },
    {
      "cell_type": "code",
      "execution_count": null,
      "metadata": {
        "colab": {
          "base_uri": "https://localhost:8080/"
        },
        "id": "nq3XlKtTRlQM",
        "outputId": "a02a9d22-8f23-4b6f-8351-fb02ec1f7423"
      },
      "outputs": [
        {
          "name": "stdout",
          "output_type": "stream",
          "text": [
            "3.169925001442312\n"
          ]
        }
      ],
      "source": [
        "import math\n",
        "print(math.log2(9))"
      ]
    },
    {
      "cell_type": "markdown",
      "source": [
        "'end' and 'sep' are different end applies even at the end of line but sep only between elements"
      ],
      "metadata": {
        "id": "UWkBkvE9FPYz"
      }
    },
    {
      "cell_type": "code",
      "execution_count": null,
      "metadata": {
        "colab": {
          "base_uri": "https://localhost:8080/"
        },
        "id": "ip_A3WLgRzWF",
        "outputId": "6eb53844-c3cd-4204-84d3-818dea58782a"
      },
      "outputs": [
        {
          "name": "stdout",
          "output_type": "stream",
          "text": [
            "abbc"
          ]
        }
      ],
      "source": [
        "print(\"a\",end=\"b\")\n",
        "print(\"b\", end=\"c\")"
      ]
    },
    {
      "cell_type": "markdown",
      "source": [
        "**WHILE LOOP**"
      ],
      "metadata": {
        "id": "-N7BnjK8FD7l"
      }
    },
    {
      "cell_type": "code",
      "execution_count": null,
      "metadata": {
        "colab": {
          "base_uri": "https://localhost:8080/"
        },
        "id": "FI8giAsAchDp",
        "outputId": "7bfe4377-5b75-4e11-c2f5-77ca53dec36a"
      },
      "outputs": [
        {
          "name": "stdout",
          "output_type": "stream",
          "text": [
            "1 2 3 4 5 6 7 8 9 10 "
          ]
        }
      ],
      "source": [
        "i=1\n",
        "\n",
        "while i<=10:\n",
        "  print(i,end=\" \")\n",
        "  i=i+1"
      ]
    },
    {
      "cell_type": "code",
      "execution_count": null,
      "metadata": {
        "colab": {
          "base_uri": "https://localhost:8080/"
        },
        "id": "2Zpp8GAqjqcj",
        "outputId": "e0f9cf39-009b-41b4-bc77-17a3d816ee62"
      },
      "outputs": [
        {
          "name": "stdout",
          "output_type": "stream",
          "text": [
            "end value20\n",
            "1,3,5,7,9,11,13,15,17,19,"
          ]
        }
      ],
      "source": [
        "i=1\n",
        "inpt=int(input(\"end value\"))\n",
        "\n",
        "while i <=inpt:\n",
        "    print(i,end=\",\")\n",
        "    i=i+2"
      ]
    },
    {
      "cell_type": "code",
      "execution_count": null,
      "metadata": {
        "colab": {
          "base_uri": "https://localhost:8080/"
        },
        "id": "XnB5K4-AmX99",
        "outputId": "141c2f04-d4d0-4d42-c8af-039f890744b3"
      },
      "outputs": [
        {
          "name": "stdout",
          "output_type": "stream",
          "text": [
            "end value20\n",
            "4,8,12,16,20,"
          ]
        }
      ],
      "source": [
        "i=4\n",
        "inpt=int(input(\"end value\"))\n",
        "\n",
        "while i <=inpt:\n",
        "    print(i,end=\",\")\n",
        "    i=i+4"
      ]
    },
    {
      "cell_type": "code",
      "execution_count": null,
      "metadata": {
        "colab": {
          "base_uri": "https://localhost:8080/"
        },
        "id": "06X-_6x1rUGv",
        "outputId": "63205678-a46d-412a-dc24-2c6d337dbe94"
      },
      "outputs": [
        {
          "name": "stdout",
          "output_type": "stream",
          "text": [
            "10\n",
            "2 4 8 16 32 64 128 256 512 1024 "
          ]
        }
      ],
      "source": [
        "i=1\n",
        "inp=int(input())\n",
        "while i<=inp:\n",
        "    print(2**i,end=\" \")\n",
        "    i=i+1"
      ]
    },
    {
      "cell_type": "code",
      "execution_count": null,
      "metadata": {
        "colab": {
          "base_uri": "https://localhost:8080/"
        },
        "id": "8jB3GEzDrsep",
        "outputId": "255c8dba-8083-45e1-e099-1b8a8731092e"
      },
      "outputs": [
        {
          "name": "stdout",
          "output_type": "stream",
          "text": [
            "5\n"
          ]
        }
      ],
      "source": [
        "N = 2\n",
        "while i <= N:\n",
        "    print(i)\n",
        "    i += 1\n",
        "\n",
        "print(5)\n"
      ]
    },
    {
      "cell_type": "code",
      "execution_count": null,
      "metadata": {
        "colab": {
          "base_uri": "https://localhost:8080/"
        },
        "id": "CrGjOR9esBLi",
        "outputId": "e06249f5-6f68-41e1-c8dd-591b05b76e64"
      },
      "outputs": [
        {
          "name": "stdout",
          "output_type": "stream",
          "text": [
            "20\n",
            "1\n",
            "4\n",
            "9\n",
            "16\n",
            "25\n",
            "36\n",
            "49\n",
            "64\n",
            "81\n",
            "100\n",
            "121\n",
            "144\n",
            "169\n",
            "196\n",
            "225\n",
            "256\n",
            "289\n",
            "324\n",
            "361\n",
            "400\n"
          ]
        }
      ],
      "source": [
        "i=1\n",
        "\n",
        "n=int(input())\n",
        "while i<=n:\n",
        "  print(i*i)\n",
        "  i=i+1"
      ]
    },
    {
      "cell_type": "code",
      "execution_count": null,
      "metadata": {
        "colab": {
          "base_uri": "https://localhost:8080/"
        },
        "id": "GWt9GPcbuBYY",
        "outputId": "9506fefd-7734-4cf1-e9bb-67f48c16c4b5"
      },
      "outputs": [
        {
          "name": "stdout",
          "output_type": "stream",
          "text": [
            "3\n",
            "2\n",
            "4 5\n",
            "25 6\n",
            "36 "
          ]
        }
      ],
      "source": [
        "i=1\n",
        "t=int(input())\n",
        "while i<=t:\n",
        "  m=int(input())\n",
        "  print(m*m,end=\" \")\n",
        "  i=i+1"
      ]
    },
    {
      "cell_type": "code",
      "execution_count": null,
      "metadata": {
        "colab": {
          "base_uri": "https://localhost:8080/"
        },
        "id": "eY9tXDLtzvgx",
        "outputId": "256d9617-add9-4db2-854c-21841650148d"
      },
      "outputs": [
        {
          "name": "stdout",
          "output_type": "stream",
          "text": [
            "4\n",
            "5\n",
            "0\n"
          ]
        }
      ],
      "source": [
        "import math\n",
        "\n",
        "i=int(input())\n",
        "j=int(input())\n",
        "\n",
        "res1=math.floor(i/j)\n",
        "print(res1)"
      ]
    },
    {
      "cell_type": "code",
      "execution_count": null,
      "metadata": {
        "colab": {
          "base_uri": "https://localhost:8080/"
        },
        "id": "jzXNDFM3G3xZ",
        "outputId": "edb20508-bbf4-4881-dc83-7d51b2f4d14b"
      },
      "outputs": [
        {
          "name": "stdout",
          "output_type": "stream",
          "text": [
            "16\n",
            "2\n",
            "8\n"
          ]
        }
      ],
      "source": [
        "import math\n",
        "def main():\n",
        "  i=int(input())\n",
        "  j=int(input())\n",
        "\n",
        "  res1=math.floor(i/j)\n",
        "  print(res1)\n",
        "    \n",
        "  return 0\n",
        "\n",
        "if __name__ == '__main__':\n",
        "    main()"
      ]
    },
    {
      "cell_type": "code",
      "execution_count": null,
      "metadata": {
        "colab": {
          "base_uri": "https://localhost:8080/"
        },
        "id": "Z-gzDvrpHdEU",
        "outputId": "50bcffa1-20c6-47df-9155-4aefc7a4ec47"
      },
      "outputs": [
        {
          "name": "stdout",
          "output_type": "stream",
          "text": [
            "10\n",
            "2 4 6 8 10 "
          ]
        }
      ],
      "source": [
        "N=int(input())\n",
        "i=2\n",
        "while i<=N:\n",
        "  print(i,end=\" \")\n",
        "  i=i+2"
      ]
    },
    {
      "cell_type": "code",
      "execution_count": null,
      "metadata": {
        "colab": {
          "base_uri": "https://localhost:8080/"
        },
        "id": "i-nm-i95QGwv",
        "outputId": "9a184199-3a1c-41e9-abb2-7c1e3a09ceb1"
      },
      "outputs": [
        {
          "name": "stdout",
          "output_type": "stream",
          "text": [
            "10\n",
            "1 3 5 7 9 "
          ]
        }
      ],
      "source": [
        "i=1\n",
        "N=int(input())\n",
        "while i<=N:\n",
        "  print(i,end=\" \")\n",
        "  i=i+2\n",
        "      "
      ]
    },
    {
      "cell_type": "code",
      "execution_count": null,
      "metadata": {
        "colab": {
          "base_uri": "https://localhost:8080/"
        },
        "id": "jwgg29ojRsfl",
        "outputId": "cca99d0f-f248-4ff1-8c6b-46bef6396403"
      },
      "outputs": [
        {
          "name": "stdout",
          "output_type": "stream",
          "text": [
            "20\n",
            "2\n",
            "4\n",
            "6\n",
            "8\n",
            "10\n",
            "12\n",
            "14\n",
            "16\n",
            "18\n",
            "20\n"
          ]
        }
      ],
      "source": [
        "n=int(input())\n",
        "i=2\n",
        "while (i<=n):\n",
        "  if i%2==0:\n",
        "    print(i)\n",
        "  i+=1"
      ]
    },
    {
      "cell_type": "code",
      "execution_count": null,
      "metadata": {
        "colab": {
          "base_uri": "https://localhost:8080/"
        },
        "id": "s4bASWBFT2kc",
        "outputId": "0033883a-c7a4-453c-c35c-d0c291b6356a"
      },
      "outputs": [
        {
          "name": "stdout",
          "output_type": "stream",
          "text": [
            "22\n",
            "4\n",
            "8\n",
            "12\n",
            "16\n",
            "20\n"
          ]
        }
      ],
      "source": [
        "N=int(input())\n",
        "i=1\n",
        "while (i*4)<=N:\n",
        "  print(i*4)\n",
        "  i=i+1"
      ]
    },
    {
      "cell_type": "code",
      "execution_count": null,
      "metadata": {
        "colab": {
          "base_uri": "https://localhost:8080/"
        },
        "id": "i7wZ8Bd3VP58",
        "outputId": "ffbc266e-af70-48ae-eb39-5b94e5d158bc"
      },
      "outputs": [
        {
          "name": "stdout",
          "output_type": "stream",
          "text": [
            "100\n",
            "1 4 9 16 25 36 49 64 81 100 "
          ]
        }
      ],
      "source": [
        "A=int(input())\n",
        "i=1\n",
        "while i*i<=A:\n",
        "  print(i*i,end=\" \")\n",
        "  i=i+1"
      ]
    },
    {
      "cell_type": "code",
      "execution_count": null,
      "metadata": {
        "colab": {
          "base_uri": "https://localhost:8080/"
        },
        "id": "Vm2Wzng3WGjz",
        "outputId": "70d37e22-41f2-475a-82fd-aceab6805699"
      },
      "outputs": [
        {
          "name": "stdout",
          "output_type": "stream",
          "text": [
            "3\n",
            "3\n",
            "6\n",
            "9\n",
            "12\n",
            "15\n",
            "18\n",
            "21\n",
            "24\n",
            "27\n",
            "30\n"
          ]
        }
      ],
      "source": [
        "A=int(input())\n",
        "i=1\n",
        "while i<=10:\n",
        "  print(i*A)\n",
        "  i=i+1"
      ]
    },
    {
      "cell_type": "code",
      "execution_count": null,
      "metadata": {
        "colab": {
          "base_uri": "https://localhost:8080/"
        },
        "id": "nQg910e3ZIr6",
        "outputId": "9a112ad7-5659-42da-fe74-b87a43110af6"
      },
      "outputs": [
        {
          "name": "stdout",
          "output_type": "stream",
          "text": [
            "2\n",
            "2 * 1 = 2\n",
            "2 * 2 = 4\n",
            "2 * 3 = 6\n",
            "2 * 4 = 8\n",
            "2 * 5 = 10\n",
            "2 * 6 = 12\n",
            "2 * 7 = 14\n",
            "2 * 8 = 16\n",
            "2 * 9 = 18\n",
            "2 * 10 = 20\n"
          ]
        }
      ],
      "source": [
        "A=int(input())\n",
        "i=1\n",
        "while i<=10:\n",
        "  print(A, '*', i, '=', A * i)\n",
        "  i=i+1"
      ]
    },
    {
      "cell_type": "code",
      "execution_count": null,
      "metadata": {
        "colab": {
          "base_uri": "https://localhost:8080/"
        },
        "id": "Eq2HJJEHZq_e",
        "outputId": "26a8fc72-147e-443f-d776-67ef9a1c90c3"
      },
      "outputs": [
        {
          "name": "stdout",
          "output_type": "stream",
          "text": [
            "4\n"
          ]
        }
      ],
      "source": [
        "num=16\n",
        "base=4\n",
        "cnt=0\n",
        "while(num>1):\n",
        "  num -= base\n",
        "  cnt+=1\n",
        "print(cnt)"
      ]
    },
    {
      "cell_type": "code",
      "execution_count": null,
      "metadata": {
        "colab": {
          "base_uri": "https://localhost:8080/"
        },
        "id": "qIn6wI74fgr4",
        "outputId": "bd3a247e-5691-4c11-92e1-ba59fd657ee0"
      },
      "outputs": [
        {
          "name": "stdout",
          "output_type": "stream",
          "text": [
            "2\n",
            "1\n",
            "1\n",
            "0\n",
            "0\n",
            "3\n"
          ]
        }
      ],
      "source": [
        "T=int(input())\n",
        "cnt=1\n",
        "while T>=1:\n",
        "  N=int(input())\n",
        "  f=N%10\n",
        "  print(f)\n",
        "  cnt=cnt+1\n",
        "  T=T-1\n",
        "print(cnt)"
      ]
    },
    {
      "cell_type": "code",
      "execution_count": null,
      "metadata": {
        "colab": {
          "base_uri": "https://localhost:8080/"
        },
        "id": "2FjEP4_OpfQB",
        "outputId": "89be39bb-4e7d-4a06-d519-22f9ff628732"
      },
      "outputs": [
        {
          "name": "stdout",
          "output_type": "stream",
          "text": [
            "2\n",
            "0\n",
            "1\n",
            "1\n",
            "1\n"
          ]
        }
      ],
      "source": [
        "T=int(input())\n",
        "i=1\n",
        "while i<=T:\n",
        "   N=input()\n",
        "   print(len(N))\n",
        "   i=i+1\n"
      ]
    },
    {
      "cell_type": "code",
      "execution_count": null,
      "metadata": {
        "colab": {
          "base_uri": "https://localhost:8080/"
        },
        "id": "b1PvPE7Wq3zu",
        "outputId": "2a21d576-5597-4e9f-9b07-dd2243926cc6"
      },
      "outputs": [
        {
          "name": "stdout",
          "output_type": "stream",
          "text": [
            "5\n"
          ]
        }
      ],
      "source": [
        "N=12345\n",
        "print(N%10)"
      ]
    },
    {
      "cell_type": "markdown",
      "source": [
        "**SUM OF INTEGERS OF A NUMBERS**"
      ],
      "metadata": {
        "id": "ZAAC1dvcG7FS"
      }
    },
    {
      "cell_type": "code",
      "execution_count": null,
      "metadata": {
        "colab": {
          "base_uri": "https://localhost:8080/"
        },
        "id": "6F2mcDjJCMR4",
        "outputId": "90f5e723-88d8-42fd-9d69-029c2290cf30"
      },
      "outputs": [
        {
          "name": "stdout",
          "output_type": "stream",
          "text": [
            "2\n",
            "1234\n",
            "10\n",
            "12345\n",
            "15\n"
          ]
        }
      ],
      "source": [
        "T=int(input())\n",
        "i=1\n",
        "while i<=T:\n",
        "  N=int(input())\n",
        "  sum=0\n",
        "  while N!=0:\n",
        "    sum1=N%10\n",
        "    N=N//10\n",
        "    sum=sum+sum1\n",
        "  print(sum)\n",
        "  i=i+1"
      ]
    },
    {
      "cell_type": "code",
      "execution_count": null,
      "metadata": {
        "colab": {
          "base_uri": "https://localhost:8080/"
        },
        "id": "fopLc_RWCZOF",
        "outputId": "250ac401-e1b5-4d26-dba9-107e0df8b7a7"
      },
      "outputs": [
        {
          "name": "stdout",
          "output_type": "stream",
          "text": [
            "[1, 3, 5, 7, 9]\n"
          ]
        }
      ],
      "source": [
        "print(list(range(1, 11, 2)))"
      ]
    },
    {
      "cell_type": "code",
      "execution_count": null,
      "metadata": {
        "colab": {
          "base_uri": "https://localhost:8080/"
        },
        "id": "nPE3AbKYx4E0",
        "outputId": "db44dd66-4312-42c8-e5c5-018a5a2ff27a"
      },
      "outputs": [
        {
          "name": "stdout",
          "output_type": "stream",
          "text": [
            "1 2 3 4 5 "
          ]
        },
        {
          "data": {
            "text/plain": [
              "int"
            ]
          },
          "execution_count": 9,
          "metadata": {},
          "output_type": "execute_result"
        }
      ],
      "source": [
        "for i in range(1,6):\n",
        "  print (i,end=\" \")\n",
        "type(i)"
      ]
    },
    {
      "cell_type": "markdown",
      "source": [
        "**'range' example of range(start,stop,step)**"
      ],
      "metadata": {
        "id": "hiQrmaowHMuS"
      }
    },
    {
      "cell_type": "code",
      "execution_count": null,
      "metadata": {
        "colab": {
          "base_uri": "https://localhost:8080/"
        },
        "id": "4PxiXeQm-npj",
        "outputId": "1d381e73-415b-448a-a129-cfefe29e0a35"
      },
      "outputs": [
        {
          "name": "stdout",
          "output_type": "stream",
          "text": [
            "20\n",
            "4 8 12 16 20 "
          ]
        }
      ],
      "source": [
        "N=int(input())\n",
        "for i in range(4,N+1,4):\n",
        "  print(i,end=\" \")"
      ]
    },
    {
      "cell_type": "code",
      "execution_count": null,
      "metadata": {
        "colab": {
          "base_uri": "https://localhost:8080/"
        },
        "id": "r-wBu5FD_TA8",
        "outputId": "e3e2d8e7-86a4-4015-c165-44e76c7d7360"
      },
      "outputs": [
        {
          "name": "stdout",
          "output_type": "stream",
          "text": [
            "10\n",
            "30\n"
          ]
        }
      ],
      "source": [
        "N=int(input())\n",
        "s=0\n",
        "for i in range(2,N+1,2):\n",
        "  s+=i\n",
        "print(s)\n",
        "  "
      ]
    },
    {
      "cell_type": "code",
      "execution_count": null,
      "metadata": {
        "colab": {
          "base_uri": "https://localhost:8080/"
        },
        "id": "97U0qdSDGUOV",
        "outputId": "7c7a0788-2ac9-4e27-ca53-be9c6ec2a8d0"
      },
      "outputs": [
        {
          "name": "stdout",
          "output_type": "stream",
          "text": [
            "23\n"
          ]
        }
      ],
      "source": [
        "N=523\n",
        "print(N%100)"
      ]
    },
    {
      "cell_type": "code",
      "execution_count": null,
      "metadata": {
        "colab": {
          "base_uri": "https://localhost:8080/"
        },
        "id": "kGSe93EZJpBX",
        "outputId": "10eeb80b-d002-4cba-f279-c49465254e13"
      },
      "outputs": [
        {
          "name": "stdout",
          "output_type": "stream",
          "text": [
            "0\n"
          ]
        }
      ],
      "source": [
        "print(0%2)"
      ]
    },
    {
      "cell_type": "code",
      "execution_count": null,
      "metadata": {
        "colab": {
          "base_uri": "https://localhost:8080/"
        },
        "id": "C6lPOKxT8oC5",
        "outputId": "9531a7a4-87a8-4bbc-d887-0b0d9dc7ad0e"
      },
      "outputs": [
        {
          "name": "stdout",
          "output_type": "stream",
          "text": [
            "5\n"
          ]
        }
      ],
      "source": [
        "\n",
        "c=0\n",
        "for i in range(0, 10):\n",
        "    if i%2==0:\n",
        "        c=c+1\n",
        "print(c)"
      ]
    },
    {
      "cell_type": "code",
      "execution_count": null,
      "metadata": {
        "colab": {
          "base_uri": "https://localhost:8080/"
        },
        "id": "jDzPdj2eAjWk",
        "outputId": "534b58c1-8215-48bc-c65b-70853f51a310"
      },
      "outputs": [
        {
          "name": "stdout",
          "output_type": "stream",
          "text": [
            "5\n"
          ]
        }
      ],
      "source": [
        "c=0\n",
        "for i in range(0, 10):\n",
        "    if i%2:\n",
        "        c=c+1\n",
        "print(c)"
      ]
    },
    {
      "cell_type": "code",
      "execution_count": null,
      "metadata": {
        "colab": {
          "base_uri": "https://localhost:8080/"
        },
        "id": "X5JJds24AqTb",
        "outputId": "3fcf0574-3902-4244-8ea3-955fed6688f3"
      },
      "outputs": [
        {
          "name": "stdout",
          "output_type": "stream",
          "text": [
            "6\n"
          ]
        }
      ],
      "source": [
        "c=0\n",
        "for i in range(0, 11):\n",
        "    if i%2==0:\n",
        "        c=c+1\n",
        "print(c)"
      ]
    },
    {
      "cell_type": "code",
      "execution_count": null,
      "metadata": {
        "colab": {
          "base_uri": "https://localhost:8080/"
        },
        "id": "jyrSUplOAv97",
        "outputId": "d83a7dbd-b762-43f4-ab08-b5d59c01ef83"
      },
      "outputs": [
        {
          "name": "stdout",
          "output_type": "stream",
          "text": [
            "0 "
          ]
        }
      ],
      "source": [
        "x = 1\n",
        "for i in range(x):\n",
        "    x=x+1\n",
        "    print(i, end= \" \")"
      ]
    },
    {
      "cell_type": "code",
      "execution_count": null,
      "metadata": {
        "colab": {
          "base_uri": "https://localhost:8080/"
        },
        "id": "UNpoDVtUBmt9",
        "outputId": "ab11d84f-c488-403e-b725-1e52922df041"
      },
      "outputs": [
        {
          "name": "stdout",
          "output_type": "stream",
          "text": [
            "5\n",
            "1 2 3 4 5 "
          ]
        }
      ],
      "source": [
        "N=int(input())\n",
        "for i in range(1,N+1):\n",
        "  print(i,end=\" \")"
      ]
    },
    {
      "cell_type": "code",
      "execution_count": null,
      "metadata": {
        "colab": {
          "base_uri": "https://localhost:8080/"
        },
        "id": "zDcQy8RkCYLt",
        "outputId": "176202c6-4a4a-407c-ecdb-0317761f49e9"
      },
      "outputs": [
        {
          "name": "stdout",
          "output_type": "stream",
          "text": [
            "10\n",
            "55\n"
          ]
        }
      ],
      "source": [
        "\n",
        "N=int(input())\n",
        "sum=0\n",
        "for i in range(1,N+1):\n",
        "  sum=sum+i\n",
        "print(sum)"
      ]
    },
    {
      "cell_type": "markdown",
      "source": [
        "**REVERSE NUMBERS USING RANGE**"
      ],
      "metadata": {
        "id": "zpnDhH8UHaUQ"
      }
    },
    {
      "cell_type": "code",
      "execution_count": null,
      "metadata": {
        "colab": {
          "base_uri": "https://localhost:8080/"
        },
        "id": "T0WMppl2E_3c",
        "outputId": "6fea6511-d3c6-40da-d495-57557dfe0793"
      },
      "outputs": [
        {
          "name": "stdout",
          "output_type": "stream",
          "text": [
            "10\n",
            "10 9 8 7 6 5 4 3 2 1 "
          ]
        }
      ],
      "source": [
        "N=int(input())\n",
        "for i in range(N,0,-1):\n",
        "  print(i,end=\" \")"
      ]
    },
    {
      "cell_type": "code",
      "execution_count": null,
      "metadata": {
        "colab": {
          "base_uri": "https://localhost:8080/"
        },
        "id": "KRWbR7FQGPTQ",
        "outputId": "c86728c0-0392-4a49-e4c6-fa12942cd743"
      },
      "outputs": [
        {
          "data": {
            "text/plain": [
              "True"
            ]
          },
          "execution_count": 13,
          "metadata": {},
          "output_type": "execute_result"
        }
      ],
      "source": [
        "bool(3)"
      ]
    },
    {
      "cell_type": "code",
      "execution_count": null,
      "metadata": {
        "colab": {
          "base_uri": "https://localhost:8080/"
        },
        "id": "gogBasgaJOen",
        "outputId": "16c14b11-6d33-45e7-ae5b-f077c924de43"
      },
      "outputs": [
        {
          "name": "stdout",
          "output_type": "stream",
          "text": [
            "57\n",
            "841\n"
          ]
        }
      ],
      "source": [
        "A=int(input())\n",
        "sum=0\n",
        "for i in range(1,A+1,2):\n",
        "  sum=sum+i\n",
        "print(sum)"
      ]
    },
    {
      "cell_type": "code",
      "execution_count": null,
      "metadata": {
        "colab": {
          "base_uri": "https://localhost:8080/"
        },
        "id": "dnhVdpzvc4iI",
        "outputId": "151cea52-41cd-4e5d-8c8d-b7e928fc9a2f"
      },
      "outputs": [
        {
          "name": "stdout",
          "output_type": "stream",
          "text": [
            "5\n",
            "*****"
          ]
        }
      ],
      "source": [
        "N=int(input())\n",
        "for i in range(N):\n",
        "  print(\"*\",end=\"\")"
      ]
    },
    {
      "cell_type": "markdown",
      "source": [
        "**'sep' - how does it works**"
      ],
      "metadata": {
        "id": "xUbjp75gH2Fr"
      }
    },
    {
      "cell_type": "code",
      "execution_count": null,
      "metadata": {
        "colab": {
          "base_uri": "https://localhost:8080/"
        },
        "id": "dyA6TK8xdhhF",
        "outputId": "417acc74-1448-4233-fbee-9ae3e27b5020"
      },
      "outputs": [
        {
          "name": "stdout",
          "output_type": "stream",
          "text": [
            "5\n",
            "*HIHIHI$\n",
            "*HIHIHI$\n",
            "*HIHIHI$\n",
            "*HIHIHI$\n",
            "*HIHIHI$\n"
          ]
        }
      ],
      "source": [
        "N=int(input())\n",
        "for i in range(N):\n",
        "  print(\"*\",\"$\",sep='HIHIHI')"
      ]
    },
    {
      "cell_type": "code",
      "execution_count": null,
      "metadata": {
        "colab": {
          "base_uri": "https://localhost:8080/"
        },
        "id": "9yWHSJd5EvUg",
        "outputId": "14b1f080-bc00-4e0c-bd3f-a28279614c7b"
      },
      "outputs": [
        {
          "name": "stdout",
          "output_type": "stream",
          "text": [
            "5\n"
          ]
        }
      ],
      "source": [
        "N=int(input())\n",
        "for i in range (1,N+1):\n",
        "  if N%i==0:\n",
        "    print(i,'prime')\n",
        "      \n"
      ]
    },
    {
      "cell_type": "code",
      "execution_count": null,
      "metadata": {
        "colab": {
          "base_uri": "https://localhost:8080/"
        },
        "id": "x-gs2PsCJgTX",
        "outputId": "a551165a-82e0-40f9-abe6-f437e9984b2a"
      },
      "outputs": [
        {
          "name": "stdout",
          "output_type": "stream",
          "text": [
            "100\n",
            "notprime\n"
          ]
        }
      ],
      "source": [
        "N=int(input())\n",
        "cnt=0\n",
        "for i in range (1,N+1):\n",
        "  if N%i==0:\n",
        "    cnt=cnt+1\n",
        "\n",
        "if cnt==2:\n",
        "  print(\"prime\")\n",
        "else:\n",
        "  print(\"notprime\")    \n",
        "\n",
        "  "
      ]
    },
    {
      "cell_type": "code",
      "execution_count": null,
      "metadata": {
        "colab": {
          "base_uri": "https://localhost:8080/"
        },
        "id": "ygXtg0lmPE1h",
        "outputId": "f26da3fa-1a3f-4fec-bd96-3fec2b3b41e7"
      },
      "outputs": [
        {
          "name": "stdout",
          "output_type": "stream",
          "text": [
            "1\n",
            "9\n",
            "36\n",
            "100\n",
            "225\n",
            "441\n"
          ]
        }
      ],
      "source": [
        "\n",
        "lst=[1,3,6,10,15,21]\n",
        "for i in lst:\n",
        "  print(i**2)"
      ]
    },
    {
      "cell_type": "code",
      "execution_count": null,
      "metadata": {
        "colab": {
          "base_uri": "https://localhost:8080/"
        },
        "id": "mbxoRLuj6Ddp",
        "outputId": "b119d1ac-6a68-4602-b035-fe350167acad"
      },
      "outputs": [
        {
          "name": "stdout",
          "output_type": "stream",
          "text": [
            "18\n",
            "NO\n"
          ]
        }
      ],
      "source": [
        "A=int(input())\n",
        "cnt=0\n",
        "for i in range(1,A+1):\n",
        "  if A%i==0:\n",
        "    cnt=cnt+1\n",
        "if cnt==2:\n",
        "  print(\"YES\")    \n",
        "else:\n",
        "  print(\"NO\")"
      ]
    },
    {
      "cell_type": "code",
      "execution_count": null,
      "metadata": {
        "colab": {
          "base_uri": "https://localhost:8080/"
        },
        "id": "E5LCHdwN_AV5",
        "outputId": "eea6acb5-cfcb-465a-94f2-bf37be1fb505"
      },
      "outputs": [
        {
          "name": "stdout",
          "output_type": "stream",
          "text": [
            "3\n"
          ]
        }
      ],
      "source": [
        "i=2\n",
        "if i==2:\n",
        "    i+=1\n",
        "for j in range(i):\n",
        "    pass\n",
        "    break\n",
        "    i+=1\n",
        "print(i)"
      ]
    },
    {
      "cell_type": "code",
      "execution_count": null,
      "metadata": {
        "colab": {
          "base_uri": "https://localhost:8080/"
        },
        "id": "1SXJhd31_mnS",
        "outputId": "3f16c78f-1a91-4814-cdb4-b366f1e15103"
      },
      "outputs": [
        {
          "name": "stdout",
          "output_type": "stream",
          "text": [
            "0\n"
          ]
        }
      ],
      "source": [
        "print(0%2)"
      ]
    },
    {
      "cell_type": "markdown",
      "source": [
        "**CODE TO GET THE LAST DIGIT OF A NUMBER**"
      ],
      "metadata": {
        "id": "m_kMjG_9JHTt"
      }
    },
    {
      "cell_type": "code",
      "execution_count": null,
      "metadata": {
        "colab": {
          "base_uri": "https://localhost:8080/"
        },
        "id": "PCSLeFNkBoYP",
        "outputId": "41588e82-7bbd-436e-de4b-d60d02a7bb4a"
      },
      "outputs": [
        {
          "name": "stdout",
          "output_type": "stream",
          "text": [
            "2345\n",
            "5\n",
            "234\n"
          ]
        }
      ],
      "source": [
        "A=int(input())\n",
        "\n",
        "B=A%10\n",
        "print(B)\n",
        "A=A//10\n",
        "print(C)"
      ]
    },
    {
      "cell_type": "code",
      "execution_count": null,
      "metadata": {
        "colab": {
          "base_uri": "https://localhost:8080/"
        },
        "id": "91DvNmiXCwKJ",
        "outputId": "e9e66bbb-742e-4b65-ecd5-74d989c93700"
      },
      "outputs": [
        {
          "name": "stdout",
          "output_type": "stream",
          "text": [
            "01234\n",
            "zero one two three four "
          ]
        }
      ],
      "source": [
        "A=input()\n",
        "for i in (A):\n",
        "  if i==\"0\":\n",
        "    print(\"zero\",end=\" \")\n",
        "  elif i==\"1\":\n",
        "    print(\"one\",end=\" \")\n",
        "  elif i==\"2\":\n",
        "    print(\"two\",end=\" \")\n",
        "  elif i==\"3\":\n",
        "    print(\"three\",end=\" \")   \n",
        "  elif i==\"4\":\n",
        "    print(\"four\",end=\" \")\n",
        "  elif i==\"5\":\n",
        "    print(\"five\",end=\" \")\n",
        "  elif i==\"6\":\n",
        "    print(\"six\",end=\" \")\n",
        "  elif i==\"7\":\n",
        "    print(\"seven\",end=\" \")\n",
        "  elif i==\"8\":\n",
        "    print(\"eight\",end=\" \")\n",
        "  elif i==\"9\":\n",
        "    print(\"nine\",end=\" \")\n",
        "  "
      ]
    },
    {
      "cell_type": "code",
      "execution_count": null,
      "metadata": {
        "colab": {
          "base_uri": "https://localhost:8080/"
        },
        "id": "Jzl3GjUYFrYr",
        "outputId": "85864840-0ca4-4f8d-a4a8-a841ab2c2a2b"
      },
      "outputs": [
        {
          "name": "stdout",
          "output_type": "stream",
          "text": [
            "5\n"
          ]
        }
      ],
      "source": [
        "N=int(input())\n",
        "cnt=0\n",
        "cnt2=0\n",
        "for i in range(2,N):\n",
        "  for j in range(1,i+1):\n",
        "    if i%j==0:\n",
        "      cnt=cnt+1\n",
        "  if cnt==2:\n",
        "    cnt2=cnt2+1\n",
        "if cnt2==2:\n",
        "  print(i)\n",
        "\n",
        "\n",
        "    \n",
        "  \n",
        "        "
      ]
    },
    {
      "cell_type": "code",
      "execution_count": null,
      "metadata": {
        "colab": {
          "base_uri": "https://localhost:8080/"
        },
        "id": "WTeyOWTSH5y9",
        "outputId": "42c9fcb8-1dbe-4752-8718-62cfe85a48df"
      },
      "outputs": [
        {
          "name": "stdout",
          "output_type": "stream",
          "text": [
            "0\n"
          ]
        }
      ],
      "source": [
        "\n",
        "1,2,3,4,5"
      ]
    },
    {
      "cell_type": "code",
      "execution_count": null,
      "metadata": {
        "colab": {
          "base_uri": "https://localhost:8080/"
        },
        "id": "2S1Z4IoOI9go",
        "outputId": "b16d6a6a-db51-427c-fa3c-56c91c91ac20"
      },
      "outputs": [
        {
          "name": "stdout",
          "output_type": "stream",
          "text": [
            "5\n",
            "2\n",
            "3\n",
            "5\n"
          ]
        }
      ],
      "source": [
        "N=int(input())\n",
        "for i in range(2,N+1):\n",
        "  for j in range(2,i):\n",
        "    if i%j==0:\n",
        "      break\n",
        "  else:\n",
        "    print(i)"
      ]
    },
    {
      "cell_type": "code",
      "execution_count": null,
      "metadata": {
        "colab": {
          "base_uri": "https://localhost:8080/"
        },
        "id": "T0JG3uLxQH8N",
        "outputId": "79f14da3-a596-41f6-885a-ec19af17cb7d"
      },
      "outputs": [
        {
          "output_type": "stream",
          "name": "stdout",
          "text": [
            "Please, Enter the Lowest Range Value: 2\n",
            "Please, Enter the Upper Range Value: 10\n",
            "The Prime Numbers in the range are: \n",
            "2\n",
            "3\n",
            "5\n",
            "7\n"
          ]
        }
      ],
      "source": [
        "\n",
        "lower_value = int(input (\"Please, Enter the Lowest Range Value: \"))  \n",
        "upper_value = int(input (\"Please, Enter the Upper Range Value: \"))  \n",
        "print (\"The Prime Numbers in the range are: \")  \n",
        "for number in range (lower_value, upper_value + 1):  \n",
        "    if number > 1:  \n",
        "        for i in range (2, number):  \n",
        "            if (number % i) == 0:  \n",
        "                break  \n",
        "        else:  \n",
        "            print (number)  "
      ]
    },
    {
      "cell_type": "code",
      "execution_count": null,
      "metadata": {
        "colab": {
          "base_uri": "https://localhost:8080/"
        },
        "id": "Nw1UKMzdSRhz",
        "outputId": "35a2822f-1be6-4987-9671-88d276b56caf"
      },
      "outputs": [
        {
          "name": "stdout",
          "output_type": "stream",
          "text": [
            "Please, Enter the Lowest Range Value: 5\n",
            "Please, Enter the Upper Range Value: 10\n",
            "5\n",
            "7\n"
          ]
        }
      ],
      "source": [
        "\n",
        "lower_value = int(input (\"Please, Enter the Lowest Range Value: \"))  \n",
        "upper_value = int(input (\"Please, Enter the Upper Range Value: \"))  \n",
        "for number in range (lower_value, upper_value + 1):  \n",
        "        for i in range (2, number):  \n",
        "            if (number % i) == 0:  \n",
        "                break  \n",
        "        else:\n",
        "          print (number)  "
      ]
    },
    {
      "cell_type": "markdown",
      "source": [
        "**USING BREAK**"
      ],
      "metadata": {
        "id": "DtgjHrkyppTK"
      }
    },
    {
      "cell_type": "code",
      "execution_count": null,
      "metadata": {
        "colab": {
          "base_uri": "https://localhost:8080/"
        },
        "id": "E7UmxJOeTDUL",
        "outputId": "390975ae-a311-4255-cfba-c2b020ca3709"
      },
      "outputs": [
        {
          "name": "stdout",
          "output_type": "stream",
          "text": [
            "No Break\n"
          ]
        }
      ],
      "source": [
        "count = 0\n",
        "while (count < 0):    \n",
        "    count = count+1\n",
        "    print(count)\n",
        "    break\n",
        "else:\n",
        "    print(\"No Break\")\n"
      ]
    },
    {
      "cell_type": "code",
      "execution_count": null,
      "metadata": {
        "colab": {
          "base_uri": "https://localhost:8080/"
        },
        "id": "k43LsNokwJRR",
        "outputId": "1f27a37d-46ea-4a62-df22-f0fcddeaf8a7"
      },
      "outputs": [
        {
          "name": "stdout",
          "output_type": "stream",
          "text": [
            "3\n",
            "4\n",
            "NO\n",
            "6\n",
            "YES\n",
            "3\n",
            "NO\n"
          ]
        }
      ],
      "source": [
        "N=int(input())\n",
        "for i in range(N):\n",
        "  A=int(input())\n",
        "  sum=0\n",
        "  for j in range(1,A):\n",
        "    if A%j==0:\n",
        "      sum=sum+j \n",
        "  if sum==A:\n",
        "    print(\"YES\")\n",
        "  else:\n",
        "    print('NO')\n",
        "      \n",
        "\n"
      ]
    },
    {
      "cell_type": "markdown",
      "source": [
        "**SORT FUNCTION **"
      ],
      "metadata": {
        "id": "qgb26aEGKDeZ"
      }
    },
    {
      "cell_type": "code",
      "execution_count": null,
      "metadata": {
        "colab": {
          "background_save": true,
          "base_uri": "https://localhost:8080/"
        },
        "id": "nJmd4nxpycLP",
        "outputId": "212ca2a7-d576-4b33-ac10-a4dd4d3ab3fb"
      },
      "outputs": [
        {
          "name": "stdout",
          "output_type": "stream",
          "text": [
            "[1, 2, 3, 4, 6]\n"
          ]
        }
      ],
      "source": [
        "num=[1,4,3,2,6]\n",
        "print(num.sort())"
      ]
    },
    {
      "cell_type": "code",
      "execution_count": null,
      "metadata": {
        "colab": {
          "base_uri": "https://localhost:8080/"
        },
        "id": "h8XcrAet44Cd",
        "outputId": "73f9372f-53d4-45d5-b07d-285a4672c6bf"
      },
      "outputs": [
        {
          "name": "stdout",
          "output_type": "stream",
          "text": [
            "17\n",
            "Weird\n"
          ]
        }
      ],
      "source": [
        "n = int(input().strip())\n",
        "if n%2!=0:\n",
        "  print(\"Weird\")\n",
        "elif 2<n<5 and n%2==0:\n",
        "    print(\"Not Weird\")\n",
        "elif 6<n<20 and n%2==0:\n",
        "    print(\"Weird\")\n",
        "elif n>20 and n%2==0:\n",
        "    print(\"Not Weird\")"
      ]
    },
    {
      "cell_type": "markdown",
      "source": [
        "**TO FIND A LEAP YEAR **"
      ],
      "metadata": {
        "id": "LDYYYFc3KQ1p"
      }
    },
    {
      "cell_type": "code",
      "execution_count": null,
      "metadata": {
        "colab": {
          "base_uri": "https://localhost:8080/"
        },
        "id": "UQqWmIV-hV0q",
        "outputId": "7a0955d0-3ce9-4c32-d064-1190c210df23"
      },
      "outputs": [
        {
          "name": "stdout",
          "output_type": "stream",
          "text": [
            "2100\n",
            "True\n"
          ]
        }
      ],
      "source": [
        "def is_leap(year):\n",
        "    leap = False\n",
        "    \n",
        "    if year%4==0:\n",
        "        leap=True\n",
        "        if year%100!=0:\n",
        "          leap=True\n",
        "          if year%400==0:\n",
        "            leap = True\n",
        "    \n",
        "    return leap\n",
        "\n",
        "year = int(input())\n",
        "print(is_leap(year))"
      ]
    },
    {
      "cell_type": "markdown",
      "source": [
        "**LCM AND GCD**"
      ],
      "metadata": {
        "id": "IZa1ogY_Kmn8"
      }
    },
    {
      "cell_type": "code",
      "execution_count": null,
      "metadata": {
        "colab": {
          "base_uri": "https://localhost:8080/"
        },
        "id": "vJGhbVuPC2OV",
        "outputId": "52776f95-0e92-4273-96e5-b6886d313c8d"
      },
      "outputs": [
        {
          "name": "stdout",
          "output_type": "stream",
          "text": [
            "10\n",
            "15\n",
            "5\n",
            "30\n"
          ]
        }
      ],
      "source": [
        "a=int(input())\n",
        "b=int(input())\n",
        "gcd=1\n",
        "lcm=0\n",
        "for i in range (1,min(a,b)+1):\n",
        "  if a%i==0 and b%i==0:\n",
        "    gcd=i\n",
        "print(gcd)\n",
        "lcm=(a*b)//gcd\n",
        "print(lcm)\n",
        "    "
      ]
    },
    {
      "cell_type": "markdown",
      "source": [
        "**PATTERN PROBLEMS**"
      ],
      "metadata": {
        "id": "uQduNpzOp_zh"
      }
    },
    {
      "cell_type": "code",
      "execution_count": null,
      "metadata": {
        "colab": {
          "base_uri": "https://localhost:8080/"
        },
        "id": "Ess_FEu0rzc5",
        "outputId": "9dca18f2-871a-480d-ffb7-c946bb328c13"
      },
      "outputs": [
        {
          "name": "stdout",
          "output_type": "stream",
          "text": [
            "*********"
          ]
        }
      ],
      "source": [
        "for i in range(3):\n",
        "    print('*', end='')\n",
        "for i in range(3):\n",
        "    print('*', end='')\n",
        "for i in range(3):\n",
        "    print('*', end='')"
      ]
    },
    {
      "cell_type": "code",
      "execution_count": null,
      "metadata": {
        "colab": {
          "base_uri": "https://localhost:8080/"
        },
        "id": "GMeha0G5uq78",
        "outputId": "4edab187-ed18-4d96-de61-e4bc74dc7eaa"
      },
      "outputs": [
        {
          "name": "stdout",
          "output_type": "stream",
          "text": [
            "*****\n",
            "*****\n",
            "*****\n"
          ]
        }
      ],
      "source": [
        "for i in range (3):\n",
        "  for j in range (5):\n",
        "    print(\"*\",end=\"\")\n",
        "  print()"
      ]
    },
    {
      "cell_type": "code",
      "execution_count": null,
      "metadata": {
        "colab": {
          "base_uri": "https://localhost:8080/"
        },
        "id": "IeqIEHouvMdG",
        "outputId": "98c09e72-6b2c-4d33-dec5-5f38fa18dddc"
      },
      "outputs": [
        {
          "name": "stdout",
          "output_type": "stream",
          "text": [
            "\n",
            "*\n",
            "**\n",
            "***\n",
            "****\n"
          ]
        }
      ],
      "source": [
        "for i in range (5):\n",
        "  for j in range (i):\n",
        "    print(\"*\",end=\"\")\n",
        "  print()"
      ]
    },
    {
      "cell_type": "markdown",
      "metadata": {
        "id": "KC3OF1_gjUaj"
      },
      "source": [
        "**Reverse Game**"
      ]
    },
    {
      "cell_type": "code",
      "execution_count": null,
      "metadata": {
        "colab": {
          "base_uri": "https://localhost:8080/"
        },
        "id": "u5XzImNI0_e2",
        "outputId": "084b40a5-9022-4c08-f7e5-79e48bbfa827"
      },
      "outputs": [
        {
          "name": "stdout",
          "output_type": "stream",
          "text": [
            "1\n",
            "123456789\n",
            "987654321\n"
          ]
        }
      ],
      "source": [
        "T=int(input())\n",
        "for i in range (T):\n",
        "  N=int(input())\n",
        "  X=0\n",
        "  while N>0:\n",
        "    Y=N%10\n",
        "    X=10*X+Y\n",
        "    N=N//10\n",
        "  print(X)\n",
        "    "
      ]
    },
    {
      "cell_type": "markdown",
      "source": [
        "**A NUMBER IS PALINDROME OR NOT**"
      ],
      "metadata": {
        "id": "iZTgBwtKK0tl"
      }
    },
    {
      "cell_type": "code",
      "execution_count": null,
      "metadata": {
        "colab": {
          "base_uri": "https://localhost:8080/"
        },
        "id": "o66xPTYbk5sE",
        "outputId": "b53efa7c-5c45-4f69-9570-718a4377976f"
      },
      "outputs": [
        {
          "name": "stdout",
          "output_type": "stream",
          "text": [
            "131\n",
            "Yes\n"
          ]
        }
      ],
      "source": [
        "A=int(input())\n",
        "X=0\n",
        "B=A\n",
        "while A>0:\n",
        "  Y=A%10\n",
        "  X=10*X+Y\n",
        "  A=A//10\n",
        "if X==B:\n",
        "  print(\"Yes\")\n",
        "else:\n",
        "  print(\"No\")"
      ]
    },
    {
      "cell_type": "markdown",
      "metadata": {
        "id": "8QLvBL8gr1s_"
      },
      "source": [
        " HCF using Loop"
      ]
    },
    {
      "cell_type": "code",
      "execution_count": null,
      "metadata": {
        "colab": {
          "base_uri": "https://localhost:8080/"
        },
        "id": "VkTHi1o9n6HQ",
        "outputId": "8090ba3c-a39c-4490-e251-25a3425ce47a"
      },
      "outputs": [
        {
          "name": "stdout",
          "output_type": "stream",
          "text": [
            "2\n",
            "15\n",
            "105\n",
            "15\n",
            "24\n",
            "36\n",
            "12\n"
          ]
        }
      ],
      "source": [
        "T=int(input())\n",
        "for i in range(T):\n",
        "  A=int(input())\n",
        "  B=int(input())\n",
        "  gcd=0\n",
        "  for i in range(1,min(A,B)+1):\n",
        "    if A%i==0 and B%i==0:\n",
        "      gcd=i\n",
        "  print(gcd)\n",
        "      \n",
        "  "
      ]
    },
    {
      "cell_type": "markdown",
      "metadata": {
        "id": "nQotA1Iiv2XM"
      },
      "source": [
        "FIND LCM WHERE LCM=A*B//GCD(A,B)"
      ]
    },
    {
      "cell_type": "code",
      "execution_count": null,
      "metadata": {
        "colab": {
          "base_uri": "https://localhost:8080/"
        },
        "id": "eqtJgWohp9UT",
        "outputId": "a3b2e1ae-4b62-43d1-d2a4-9048453961f2"
      },
      "outputs": [
        {
          "name": "stdout",
          "output_type": "stream",
          "text": [
            "2\n",
            "2\n",
            "3\n",
            "6\n",
            "9\n",
            "6\n",
            "18\n"
          ]
        }
      ],
      "source": [
        "t=int(input())\n",
        "for i in range(t):\n",
        "  A=int(input())\n",
        "  B=int(input())\n",
        "  gcd=0\n",
        "  lcm=0\n",
        "  for i in range(1,min(A,B)+1):\n",
        "    if A%i==0 and B%i==0:\n",
        "      gcd=i\n",
        "  lcm=(A*B)//gcd\n",
        "  print(lcm)\n"
      ]
    },
    {
      "cell_type": "code",
      "execution_count": null,
      "metadata": {
        "colab": {
          "base_uri": "https://localhost:8080/"
        },
        "id": "97LSFVhzxyhU",
        "outputId": "72014c58-f4e3-4c3b-c001-c1af21437a0a"
      },
      "outputs": [
        {
          "name": "stdout",
          "output_type": "stream",
          "text": [
            "a  a  c\n"
          ]
        }
      ],
      "source": [
        "for i in range(1):\n",
        "    for j in range(2):\n",
        "        for k in range(1):\n",
        "            print(\"a\", end=\" \")\n",
        "        print(end=\" \")\n",
        "    print(\"c\")"
      ]
    },
    {
      "cell_type": "code",
      "execution_count": null,
      "metadata": {
        "colab": {
          "base_uri": "https://localhost:8080/"
        },
        "id": "Bl63ddGdyioh",
        "outputId": "c860e50a-b841-4f54-ff03-c83f2081ac5f"
      },
      "outputs": [
        {
          "name": "stdout",
          "output_type": "stream",
          "text": [
            "12\n",
            "1 2 3 4 5 6 7 8 9 10 11 12\n",
            "1 2 3 4 5 6 7 8 9 10 11\n",
            "1 2 3 4 5 6 7 8 9 10\n",
            "1 2 3 4 5 6 7 8 9\n",
            "1 2 3 4 5 6 7 8\n",
            "1 2 3 4 5 6 7\n",
            "1 2 3 4 5 6\n",
            "1 2 3 4 5\n",
            "1 2 3 4\n",
            "1 2 3\n",
            "1 2\n",
            "1\n"
          ]
        }
      ],
      "source": [
        "N=int(input())\n",
        "for i in range(1,N+1):\n",
        "  for j in range(1,(N-i+1)+1):\n",
        "    if j==N-i+1:\n",
        "      print(j,end=\"\")\n",
        "    else:\n",
        "      print(j,end=\" \")\n",
        "  print()"
      ]
    },
    {
      "cell_type": "code",
      "execution_count": null,
      "metadata": {
        "colab": {
          "base_uri": "https://localhost:8080/"
        },
        "id": "xs2UaPcFp0Md",
        "outputId": "4f250ad9-d940-45ad-b52d-6389c5a5a5de"
      },
      "outputs": [
        {
          "name": "stdout",
          "output_type": "stream",
          "text": [
            "5\n",
            "*___*\n",
            "*___*\n",
            "*___*\n",
            "*___*\n",
            "*___*\n"
          ]
        }
      ],
      "source": [
        "N=int(input())\n",
        "for i in range(1,N+1):\n",
        "  for j in range(1,N+1):\n",
        "    if j==1 or j==N:\n",
        "      print(\"*\",end=\"\")\n",
        "    else:\n",
        "      print(\"_\",end=\"\")\n",
        "  print() "
      ]
    },
    {
      "cell_type": "markdown",
      "source": [
        "ONLY THIS CODE IS FROM UDEMY"
      ],
      "metadata": {
        "id": "Wo1tLwrbqqM-"
      }
    },
    {
      "cell_type": "code",
      "execution_count": null,
      "metadata": {
        "id": "xOgoew8GwLpm"
      },
      "outputs": [],
      "source": [
        "def hello(name=\"jose\"):\n",
        "  print(\"this hello() function has been executed!\")\n",
        "\n",
        "  def greet():\n",
        "    return'\\t this is the greet() func inside hello'\n",
        "\n",
        "  def welcome():\n",
        "    return'\\t this is welcome() inside hello!'\n",
        "\n",
        "  print(greet())\n",
        "  print(welcome())"
      ]
    },
    {
      "cell_type": "code",
      "execution_count": null,
      "metadata": {
        "colab": {
          "base_uri": "https://localhost:8080/"
        },
        "id": "TXBGYU2l2I5f",
        "outputId": "53ca3703-04d2-48bb-d509-22e2afb2d2d8"
      },
      "outputs": [
        {
          "name": "stdout",
          "output_type": "stream",
          "text": [
            "this hello() function has been executed!\n",
            "\t this is welcome() inside hello!\n"
          ]
        }
      ],
      "source": [
        "hello()"
      ]
    },
    {
      "cell_type": "code",
      "execution_count": null,
      "metadata": {
        "colab": {
          "base_uri": "https://localhost:8080/"
        },
        "id": "_wkESe2R2aEv",
        "outputId": "cd8b0c43-fd72-4b25-9cf5-69adbb4a604a"
      },
      "outputs": [
        {
          "name": "stdout",
          "output_type": "stream",
          "text": [
            "5\n",
            "*   *\n",
            "*   *\n",
            "*   *\n",
            "*   *\n",
            "*   *\n"
          ]
        }
      ],
      "source": [
        "N=int(input())\n",
        "for i in range(1,N+1):\n",
        "  for j in range(1,N+1):  \n",
        "    if j==1 or j==N:\n",
        "      print(\"*\",end=\"\")\n",
        "    else:\n",
        "      print(\" \",end=\"\")\n",
        "  print()"
      ]
    },
    {
      "cell_type": "code",
      "execution_count": null,
      "metadata": {
        "colab": {
          "base_uri": "https://localhost:8080/"
        },
        "id": "CgFcv6PI0JT3",
        "outputId": "ad5dee17-2f47-40a5-b8a8-58327ace3a3c"
      },
      "outputs": [
        {
          "name": "stdout",
          "output_type": "stream",
          "text": [
            "5\n",
            "*****\n",
            "_****\n",
            "__***\n",
            "___**\n",
            "____*\n"
          ]
        }
      ],
      "source": [
        "N=int(input())\n",
        "for i in range(1,N+1):\n",
        "  for j in range(i-1):\n",
        "    print(\"_\",end=\"\")\n",
        "  for j in range(N-i+1):\n",
        "    print(\"*\",end=\"\")\n",
        "  print()"
      ]
    },
    {
      "cell_type": "code",
      "execution_count": null,
      "metadata": {
        "colab": {
          "base_uri": "https://localhost:8080/"
        },
        "id": "hs1No2LA1bZt",
        "outputId": "312290fa-21f1-4b19-834d-f127a9e8553b"
      },
      "outputs": [
        {
          "name": "stdout",
          "output_type": "stream",
          "text": [
            "5\n",
            "____* \n",
            "___* * \n",
            "__* * * \n",
            "_* * * * \n",
            "* * * * * \n"
          ]
        }
      ],
      "source": [
        "N=int(input())\n",
        "for i in range(1,N+1):\n",
        "  for j in range(N-i):\n",
        "    print(\"_\",end=\"\")\n",
        "  for j in range(i):\n",
        "    print('*',end=\" \")\n",
        "  print()\n"
      ]
    },
    {
      "cell_type": "code",
      "execution_count": null,
      "metadata": {
        "colab": {
          "base_uri": "https://localhost:8080/"
        },
        "id": "nKNA7TzB2yu9",
        "outputId": "5a027dde-db1e-458c-9754-772aaeeb221c"
      },
      "outputs": [
        {
          "name": "stdout",
          "output_type": "stream",
          "text": [
            "5\n",
            "1\n",
            "1_\n",
            "1_3\n",
            "1_3_\n",
            "1_3_5\n"
          ]
        }
      ],
      "source": [
        "  N=int(input())\n",
        "  for i in range(1,N+1):\n",
        "    for j in range(1,i+1):\n",
        "      if j%2==0:\n",
        "        print(\"_\",end=\"\")\n",
        "      else:\n",
        "        print(j,end=\"\")\n",
        "    print()"
      ]
    },
    {
      "cell_type": "code",
      "execution_count": null,
      "metadata": {
        "colab": {
          "base_uri": "https://localhost:8080/"
        },
        "id": "Cg-6e-PE6C9k",
        "outputId": "98e717b5-9a6d-4b7f-8860-441ec3d15dc8"
      },
      "outputs": [
        {
          "name": "stdout",
          "output_type": "stream",
          "text": [
            "12\n",
            "*                      *\n",
            "**                    **\n",
            "***                  ***\n",
            "****                ****\n",
            "*****              *****\n",
            "******            ******\n",
            "*******          *******\n",
            "********        ********\n",
            "*********      *********\n",
            "**********    **********\n",
            "***********  ***********\n",
            "************************\n"
          ]
        }
      ],
      "source": [
        "\n",
        "N=int(input())\n",
        "for i in range(1,N+1):\n",
        "  for j in range(i):\n",
        "    print(\"*\",end=\"\")\n",
        "  for j in range(2*N-2*i):\n",
        "    print(\" \",end=\"\")\n",
        "  for j in range(i):\n",
        "    print(\"*\",end=\"\")\n",
        "  print()\n"
      ]
    },
    {
      "cell_type": "code",
      "execution_count": null,
      "metadata": {
        "colab": {
          "base_uri": "https://localhost:8080/"
        },
        "id": "n-5s8AaVKwxL",
        "outputId": "02a56860-b349-4fa5-a593-b3cdde9290bf"
      },
      "outputs": [
        {
          "name": "stdout",
          "output_type": "stream",
          "text": [
            "12\n",
            "*\n",
            "**\n",
            "***\n",
            "****\n",
            "*****\n",
            "******\n",
            "*******\n",
            "********\n",
            "*********\n",
            "**********\n",
            "***********\n",
            "************\n",
            "***********\n",
            "**********\n",
            "*********\n",
            "********\n",
            "*******\n",
            "******\n",
            "*****\n",
            "****\n",
            "***\n",
            "**\n",
            "*\n",
            "\n"
          ]
        }
      ],
      "source": [
        "N=int(input())\n",
        "for i in range(1,N+1):\n",
        "  for j in range (i):\n",
        "    print(\"*\",end=\"\")\n",
        "  print()\n",
        "for i in range(1,N+1):\n",
        "  for i in range(1,N-i+1):\n",
        "    print(\"*\",end=\"\")\n",
        "  print()\n"
      ]
    },
    {
      "cell_type": "code",
      "execution_count": null,
      "metadata": {
        "colab": {
          "base_uri": "https://localhost:8080/"
        },
        "id": "ehEJ0OOTMM5-",
        "outputId": "562cb552-fc6a-4524-d242-a9c681809f1b"
      },
      "outputs": [
        {
          "name": "stdout",
          "output_type": "stream",
          "text": [
            "8\n",
            "********\n",
            "*     *\n",
            "*    *\n",
            "*   *\n",
            "*  *\n",
            "* *\n",
            "**\n",
            "*\n"
          ]
        }
      ],
      "source": [
        "N=int(input())\n",
        "for i in range(1,N+1):\n",
        "  print(\"*\",end=\"\")\n",
        "print()\n",
        "for i in range(1,N-1):\n",
        "  print(\"*\",end=\"\")\n",
        "  for j in range(N-i-2):\n",
        "    print(\" \",end=\"\")\n",
        "  print(\"*\")\n",
        "\n",
        "print(\"*\")"
      ]
    },
    {
      "cell_type": "code",
      "execution_count": null,
      "metadata": {
        "colab": {
          "base_uri": "https://localhost:8080/"
        },
        "id": "DCekjUdEOgOd",
        "outputId": "aa7375f4-5cac-4f4e-d08e-1eb466a647b2"
      },
      "outputs": [
        {
          "name": "stdout",
          "output_type": "stream",
          "text": [
            "5\n",
            "****\n",
            "*  \n",
            "* \n",
            "*\n",
            "\n"
          ]
        }
      ],
      "source": [
        "8**************************wrong***********\n",
        "N=int(input())\n",
        "for i in range(1,N+1):\n",
        "  for j in range(1,N-i+1):\n",
        "    if i==1 or i==N or j==1 or j==(N-i+1):\n",
        "      print(\"*\",end=\"\")\n",
        "    else:\n",
        "      print(\" \",end=\"\")\n",
        "  print()"
      ]
    },
    {
      "cell_type": "code",
      "execution_count": null,
      "metadata": {
        "colab": {
          "base_uri": "https://localhost:8080/"
        },
        "id": "HW1WTNbNQHk9",
        "outputId": "b85fbdea-8625-434e-d929-2a377d334250"
      },
      "outputs": [
        {
          "name": "stdout",
          "output_type": "stream",
          "text": [
            "5\n",
            "000050000\n",
            "0004812000\n",
            "00369121500\n",
            "024681012140\n",
            "123456789\n"
          ]
        }
      ],
      "source": [
        "N=int(input())\n",
        "for i in range(1,N+1):\n",
        "  for j in range(N-i):\n",
        "    print(\"0\",end=\"\")\n",
        "  for j in range(1,(2*i-1)+1):\n",
        "    print(j*(N-i+1),end=\"\")\n",
        "  for j in range(N-i):\n",
        "    print(\"0\",end=\"\")\n",
        "  print()"
      ]
    },
    {
      "cell_type": "code",
      "execution_count": null,
      "metadata": {
        "colab": {
          "base_uri": "https://localhost:8080/"
        },
        "id": "T-3rqF3xVcKQ",
        "outputId": "14565896-3a8d-4705-b608-4448ac43d7b1"
      },
      "outputs": [
        {
          "name": "stdout",
          "output_type": "stream",
          "text": [
            "5\n",
            "000050000\n",
            "0004812000\n",
            "00369121500\n",
            "024681012140\n",
            "123456789\n"
          ]
        }
      ],
      "source": [
        "N=int(input())\n",
        "for i in range(1,N+1):\n",
        "  for j in range(1,(N-i)+1):\n",
        "    print(0,end=\" \")\n",
        "  for j in range(1,(2*i-1)+1):\n",
        "    print(j*(N-i+1),end=\" \")\n",
        "  for j in range(1,(N-i)+1):\n",
        "    print(0,end=\" \")\n",
        "  print()"
      ]
    },
    {
      "cell_type": "code",
      "execution_count": null,
      "metadata": {
        "colab": {
          "base_uri": "https://localhost:8080/"
        },
        "id": "zhTildsz9H0b",
        "outputId": "0312d0be-17b8-4079-d4cb-92995487d18a"
      },
      "outputs": [
        {
          "name": "stdout",
          "output_type": "stream",
          "text": [
            "5\n",
            " * * * * * \n",
            "  * * * * \n",
            "   * * * \n",
            "    * * \n",
            "     * \n"
          ]
        }
      ],
      "source": [
        "N=int(input())\n",
        "for i in range(1,N+1):\n",
        "  for j in range(i):\n",
        "    print(\" \",end=\"\")\n",
        "  for j in range(1,(N-i+1)+1):\n",
        "    print(\"*\",end=\" \")\n",
        "  print()   "
      ]
    },
    {
      "cell_type": "code",
      "execution_count": null,
      "metadata": {
        "colab": {
          "base_uri": "https://localhost:8080/"
        },
        "id": "3NOPrUEgTB4h",
        "outputId": "520f772c-d6ff-4e33-b04b-4af81a0ebb36"
      },
      "outputs": [
        {
          "name": "stdout",
          "output_type": "stream",
          "text": [
            "5\n",
            "0 0 0 0 1 0 0 0 0 \n",
            "0 0 0 2 3 2 0 0 0 \n",
            "0 0 3 4 5 4 3 0 0 \n",
            "0 4 5 6 7 6 5 4 0 \n",
            "5 6 7 8 9 8 7 6 5 \n"
          ]
        }
      ],
      "source": [
        "N=int(input())\n",
        "for i in range(1,N+1):\n",
        "    for j in range(N-i):\n",
        "        print(0,end=\" \")\n",
        "    for j in range(i,(2*i-1)+1):\n",
        "        print(j,end=\" \")\n",
        "    for j in range(2*i-2,i-1,-1):\n",
        "        print(j,end=\" \")\n",
        "    for j in range(N-i):\n",
        "        print(0,end=\" \")\n",
        "    print()"
      ]
    },
    {
      "cell_type": "markdown",
      "source": [
        "**COUNT A REPEATATION OF LETTER IN A STRING**"
      ],
      "metadata": {
        "id": "3ympf0_8MHYS"
      }
    },
    {
      "cell_type": "code",
      "execution_count": null,
      "metadata": {
        "colab": {
          "base_uri": "https://localhost:8080/"
        },
        "id": "XyrBPAaO8Dg9",
        "outputId": "53ddbfed-7570-488a-f43f-6697a215de11"
      },
      "outputs": [
        {
          "output_type": "stream",
          "name": "stdout",
          "text": [
            "2\n"
          ]
        }
      ],
      "source": [
        "A=\"AABAAB\"\n",
        "C=len(A)\n",
        "cnt=0\n",
        "for i in range(0,len(A)):\n",
        "    if A[i]==\"B\":\n",
        "       cnt=cnt+1\n",
        "print (cnt)"
      ]
    },
    {
      "cell_type": "code",
      "execution_count": null,
      "metadata": {
        "colab": {
          "base_uri": "https://localhost:8080/",
          "height": 200
        },
        "id": "QHBAc84LiRMO",
        "outputId": "93784e0d-551f-4501-ccb4-f8ce6058bdba"
      },
      "outputs": [
        {
          "ename": "NameError",
          "evalue": "ignored",
          "output_type": "error",
          "traceback": [
            "\u001b[0;31m---------------------------------------------------------------------------\u001b[0m",
            "\u001b[0;31mNameError\u001b[0m                                 Traceback (most recent call last)",
            "\u001b[0;32m<ipython-input-2-23019e03e6b7>\u001b[0m in \u001b[0;36m<module>\u001b[0;34m\u001b[0m\n\u001b[1;32m      2\u001b[0m   \u001b[0;32mreturn\u001b[0m \u001b[0mnum\u001b[0m \u001b[0;34m+\u001b[0m \u001b[0;36m55\u001b[0m\u001b[0;34m\u001b[0m\u001b[0;34m\u001b[0m\u001b[0m\n\u001b[1;32m      3\u001b[0m \u001b[0mf\u001b[0m\u001b[0;34m(\u001b[0m\u001b[0;36m5\u001b[0m\u001b[0;34m)\u001b[0m\u001b[0;34m\u001b[0m\u001b[0;34m\u001b[0m\u001b[0m\n\u001b[0;32m----> 4\u001b[0;31m \u001b[0mprint\u001b[0m\u001b[0;34m(\u001b[0m\u001b[0mnum\u001b[0m\u001b[0;34m)\u001b[0m\u001b[0;34m\u001b[0m\u001b[0;34m\u001b[0m\u001b[0m\n\u001b[0m",
            "\u001b[0;31mNameError\u001b[0m: name 'num' is not defined"
          ]
        }
      ],
      "source": [
        "def f(num):\n",
        "  return num + 55\n",
        "f(5)\n",
        "print(num)"
      ]
    },
    {
      "cell_type": "code",
      "execution_count": null,
      "metadata": {
        "colab": {
          "base_uri": "https://localhost:8080/"
        },
        "id": "00WRuFaeU9Op",
        "outputId": "03a8c041-8dd5-4044-ade3-750eabf736ae"
      },
      "outputs": [
        {
          "name": "stdout",
          "output_type": "stream",
          "text": [
            "12345\n",
            "\n",
            "54321"
          ]
        }
      ],
      "source": [
        "n=5\n",
        "for i in range(1,n+1):\n",
        "        print (i,end=\"\")\n",
        "print()\n",
        "print()\n",
        "for j in range(n,0,-1):\n",
        "        print (j,end=\"\")"
      ]
    },
    {
      "cell_type": "code",
      "execution_count": null,
      "metadata": {
        "colab": {
          "base_uri": "https://localhost:8080/"
        },
        "id": "UY9sP3QpXFCc",
        "outputId": "71db386f-9a63-4ad1-ddad-6011aba2328f"
      },
      "outputs": [
        {
          "output_type": "stream",
          "name": "stdout",
          "text": [
            "11\n",
            "55\n"
          ]
        }
      ],
      "source": [
        "x = 55\n",
        "def hi():\n",
        "  x=11\n",
        "  return x\n",
        "print(hi())\n",
        "print(x)  "
      ]
    },
    {
      "cell_type": "markdown",
      "source": [
        "**FIND IF A NUMBER IS PERFECT SQUARE OR NOT**"
      ],
      "metadata": {
        "id": "XfVY_Ih6NTzf"
      }
    },
    {
      "cell_type": "code",
      "execution_count": null,
      "metadata": {
        "colab": {
          "base_uri": "https://localhost:8080/"
        },
        "id": "WZhPgGfJyKfK",
        "outputId": "6743d945-39c1-43ae-e146-ac0ef23568ae"
      },
      "outputs": [
        {
          "name": "stdout",
          "output_type": "stream",
          "text": [
            "156\n",
            "0\n"
          ]
        }
      ],
      "source": [
        "def per_sq(n):\n",
        "  cnt=0\n",
        "  for i in range(1,n):\n",
        "        if n%i==0:\n",
        "            cnt=cnt+i\n",
        "  print(cnt)\n",
        "  if cnt==n:\n",
        "     return 1\n",
        "  else:\n",
        "     return 0\n",
        "print(per_sq(96))\n",
        "            "
      ]
    },
    {
      "cell_type": "code",
      "execution_count": null,
      "metadata": {
        "colab": {
          "base_uri": "https://localhost:8080/",
          "height": 130
        },
        "id": "dD4Ym6Tgd0oN",
        "outputId": "bfbb8fbe-2c9d-4bba-d051-c4a58092b0b5"
      },
      "outputs": [
        {
          "ename": "SyntaxError",
          "evalue": "ignored",
          "output_type": "error",
          "traceback": [
            "\u001b[0;36m  File \u001b[0;32m\"<ipython-input-5-2f486faef682>\"\u001b[0;36m, line \u001b[0;32m1\u001b[0m\n\u001b[0;31m    1x=10\u001b[0m\n\u001b[0m     ^\u001b[0m\n\u001b[0;31mSyntaxError\u001b[0m\u001b[0;31m:\u001b[0m invalid syntax\n"
          ]
        }
      ],
      "source": [
        "1x=10\n",
        "y=x\n",
        "_x=20\n",
        "print(_x)"
      ]
    },
    {
      "cell_type": "code",
      "execution_count": null,
      "metadata": {
        "colab": {
          "base_uri": "https://localhost:8080/"
        },
        "id": "W5xIXHvSfTUO",
        "outputId": "525a5e85-5010-4624-fcae-5ba2c42c6351"
      },
      "outputs": [
        {
          "name": "stdout",
          "output_type": "stream",
          "text": [
            "10\n",
            "Hello World\n",
            "22.5\n"
          ]
        }
      ],
      "source": [
        "whole_number,str,decimal=10,\"Hello World\",22.50\n",
        "print(whole_number)\n",
        "print(str)\n",
        "print(decimal)"
      ]
    },
    {
      "cell_type": "code",
      "execution_count": null,
      "metadata": {
        "colab": {
          "base_uri": "https://localhost:8080/"
        },
        "id": "cwk66afwmpPA",
        "outputId": "5bffa22b-6643-4226-da6b-c4e99e0e1658"
      },
      "outputs": [
        {
          "name": "stdout",
          "output_type": "stream",
          "text": [
            "4\n",
            "2\n"
          ]
        }
      ],
      "source": [
        "print(4 or 3)\n",
        "print(4 and 2)"
      ]
    },
    {
      "cell_type": "code",
      "execution_count": null,
      "metadata": {
        "colab": {
          "base_uri": "https://localhost:8080/"
        },
        "id": "Pcy-bvogUu71",
        "outputId": "8094e6a2-bf1e-454e-e0ab-999397121e30"
      },
      "outputs": [
        {
          "name": "stdout",
          "output_type": "stream",
          "text": [
            "5hello\n",
            "world\n",
            "howare you"
          ]
        }
      ],
      "source": [
        "print(5, end='hello\\n')\n",
        "print('world')\n",
        "print('how', end='are you')"
      ]
    },
    {
      "cell_type": "code",
      "execution_count": null,
      "metadata": {
        "colab": {
          "base_uri": "https://localhost:8080/"
        },
        "id": "ek8ufl9h_ozH",
        "outputId": "412370be-59d7-4721-cad8-3e1cb167aa5d"
      },
      "outputs": [
        {
          "name": "stdout",
          "output_type": "stream",
          "text": [
            "0 : 0 1 : 2 2 : 4 "
          ]
        }
      ],
      "source": [
        "\n",
        "i = 0\n",
        "j = 0\n",
        "while i <= 2:\n",
        "    if j%2:\n",
        "        j += 1\n",
        "    print(i, \":\", j, end=\" \")\n",
        "    i+=1\n",
        "    j+=1"
      ]
    },
    {
      "cell_type": "markdown",
      "source": [
        "**HOW 'end' WORKS?**"
      ],
      "metadata": {
        "id": "hIOKZICaNj1R"
      }
    },
    {
      "cell_type": "code",
      "execution_count": null,
      "metadata": {
        "colab": {
          "base_uri": "https://localhost:8080/"
        },
        "id": "yjhwfxK1H1So",
        "outputId": "e9f57657-21be-4691-f19f-57e938aedcf0"
      },
      "outputs": [
        {
          "name": "stdout",
          "output_type": "stream",
          "text": [
            "0, 1, 2, 3, 4, 5, 6, 7, 8, 9, 10, 11, 12, 13, 14, 15\n",
            "16, 17, 18, 19, "
          ]
        }
      ],
      "source": [
        "N = 20\n",
        "\n",
        "for i in range(N):\n",
        "    if i == N-5:\n",
        "        print(i)\n",
        "    else:\n",
        "        print(i, end=', ')"
      ]
    },
    {
      "cell_type": "markdown",
      "source": [
        "**GLOBAL AND LOCAL VARIABLE**"
      ],
      "metadata": {
        "id": "8sTTtJbmNpSK"
      }
    },
    {
      "cell_type": "code",
      "execution_count": null,
      "metadata": {
        "colab": {
          "base_uri": "https://localhost:8080/"
        },
        "id": "yvCJVDGKBkMS",
        "outputId": "56c28608-be16-496a-a0b2-e3faaa845a7f"
      },
      "outputs": [
        {
          "name": "stdout",
          "output_type": "stream",
          "text": [
            "inside func a =  5\n",
            "inside func b =  3\n",
            "outside func a =  5\n",
            "outside func b =  2\n"
          ]
        }
      ],
      "source": [
        "a=10\n",
        "b=2\n",
        "def random3():\n",
        "  global a\n",
        "  b=3\n",
        "  a=5 \n",
        "  print(\"inside func a = \",a)\n",
        "  print(\"inside func b = \",b)\n",
        "\n",
        "random3()\n",
        "print(\"outside func a = \",a)\n",
        "print(\"outside func b = \",b)"
      ]
    },
    {
      "cell_type": "code",
      "execution_count": null,
      "metadata": {
        "colab": {
          "base_uri": "https://localhost:8080/"
        },
        "id": "juC37NCBiF5s",
        "outputId": "27b4ab6a-6fdc-429a-c777-3be2970cf11e"
      },
      "outputs": [
        {
          "name": "stdout",
          "output_type": "stream",
          "text": [
            "18892\n",
            "1\n",
            "8\n",
            "8\n",
            "9\n",
            "2\n"
          ]
        }
      ],
      "source": [
        "a=input()\n",
        "for i in a:\n",
        "  print(i)"
      ]
    },
    {
      "cell_type": "code",
      "execution_count": null,
      "metadata": {
        "colab": {
          "base_uri": "https://localhost:8080/"
        },
        "id": "E11GgKTUj6dm",
        "outputId": "2a0a85b4-c272-4166-8702-f922a44f1e8a"
      },
      "outputs": [
        {
          "data": {
            "text/plain": [
              "str"
            ]
          },
          "execution_count": 6,
          "metadata": {},
          "output_type": "execute_result"
        }
      ],
      "source": [
        "type(i)"
      ]
    },
    {
      "cell_type": "code",
      "execution_count": null,
      "metadata": {
        "colab": {
          "base_uri": "https://localhost:8080/"
        },
        "id": "w2J-5NyOlJ7d",
        "outputId": "3bb82500-1531-437a-d787-0c45f636c147"
      },
      "outputs": [
        {
          "name": "stdout",
          "output_type": "stream",
          "text": [
            "1\n",
            "112341\n",
            "3\n"
          ]
        }
      ],
      "source": [
        "N=int(input())\n",
        "for i in range(N):\n",
        "    A=input()\n",
        "    cnt=0\n",
        "    for k in A:\n",
        "        if k=='1':\n",
        "           cnt=cnt+1\n",
        "        else:\n",
        "            pass\n",
        "    print(cnt)"
      ]
    },
    {
      "cell_type": "code",
      "execution_count": null,
      "metadata": {
        "colab": {
          "base_uri": "https://localhost:8080/"
        },
        "id": "wAIb6IdBlma8",
        "outputId": "b19728f3-d6fa-4386-f658-93c02c9dfc02"
      },
      "outputs": [
        {
          "name": "stdout",
          "output_type": "stream",
          "text": [
            "35\n",
            "6\n",
            "28\n"
          ]
        }
      ],
      "source": [
        "n=int(input())\n",
        "for i in range(1,n):\n",
        "  cnt=0\n",
        "  for j in range(1,i):\n",
        "    if i%j==0:\n",
        "      cnt=cnt+j\n",
        "  if cnt==i:\n",
        "    print(i)\n",
        "\n"
      ]
    },
    {
      "cell_type": "code",
      "execution_count": null,
      "metadata": {
        "colab": {
          "base_uri": "https://localhost:8080/"
        },
        "id": "vFfFKzmsneKI",
        "outputId": "6f0b8471-8832-4e62-9058-b6e76995e96b"
      },
      "outputs": [
        {
          "name": "stdout",
          "output_type": "stream",
          "text": [
            "28\n",
            "yes\n"
          ]
        }
      ],
      "source": [
        "N=28\n",
        "cnt=0\n",
        "for i in range(1,N):\n",
        "  if N%i==0:\n",
        "    cnt=cnt+i\n",
        "print(cnt)\n",
        "if cnt==N:\n",
        "  print(\"yes\")"
      ]
    },
    {
      "cell_type": "code",
      "execution_count": null,
      "metadata": {
        "colab": {
          "base_uri": "https://localhost:8080/"
        },
        "id": "Y75vJ2DSqnRH",
        "outputId": "35c21992-48d1-4023-df03-2dd70df8d564"
      },
      "outputs": [
        {
          "name": "stdout",
          "output_type": "stream",
          "text": [
            "0\n"
          ]
        }
      ],
      "source": [
        "import math\n",
        "print(math.floor(25/100))"
      ]
    },
    {
      "cell_type": "code",
      "execution_count": null,
      "metadata": {
        "colab": {
          "base_uri": "https://localhost:8080/"
        },
        "id": "BVE9JU3_tiWx",
        "outputId": "ff34a05f-74c5-4dae-d49a-9d4f2cb01afc"
      },
      "outputs": [
        {
          "name": "stdout",
          "output_type": "stream",
          "text": [
            "234\n"
          ]
        }
      ],
      "source": [
        "n=float(input())"
      ]
    },
    {
      "cell_type": "code",
      "execution_count": null,
      "metadata": {
        "colab": {
          "base_uri": "https://localhost:8080/"
        },
        "id": "9zh76--Uu5B3",
        "outputId": "4b90851f-7781-43e2-d821-cc8539e00aee"
      },
      "outputs": [
        {
          "data": {
            "text/plain": [
              "float"
            ]
          },
          "execution_count": 34,
          "metadata": {},
          "output_type": "execute_result"
        }
      ],
      "source": [
        "type(n)"
      ]
    },
    {
      "cell_type": "code",
      "execution_count": null,
      "metadata": {
        "colab": {
          "base_uri": "https://localhost:8080/"
        },
        "id": "WYX5nAS_u8ZE",
        "outputId": "f70f4e50-e12a-44e3-f020-5ab87c7f5037"
      },
      "outputs": [
        {
          "name": "stdout",
          "output_type": "stream",
          "text": [
            "4\n",
            "1\n",
            "2\n"
          ]
        }
      ],
      "source": [
        "import math\n",
        "a=int(input())\n",
        "cnt=0\n",
        "d=0\n",
        "for i in range(1,a):\n",
        "  if i*i==a:\n",
        "    d=i\n",
        "    cnt=1\n",
        "  else:\n",
        "    pass\n",
        "if cnt==1:\n",
        "  print(1)\n",
        "  print(d)\n",
        "else:\n",
        "  print(0)"
      ]
    },
    {
      "cell_type": "code",
      "execution_count": null,
      "metadata": {
        "colab": {
          "base_uri": "https://localhost:8080/"
        },
        "id": "U2x26rNOmCDt",
        "outputId": "62b53008-ea3f-4a02-89fc-52962a94dd77"
      },
      "outputs": [
        {
          "name": "stdout",
          "output_type": "stream",
          "text": [
            "500\n",
            "2\n"
          ]
        }
      ],
      "source": [
        " A=int(input())\n",
        " d=A/200\n",
        " print(round(d))"
      ]
    },
    {
      "cell_type": "code",
      "execution_count": null,
      "metadata": {
        "colab": {
          "base_uri": "https://localhost:8080/",
          "height": 130
        },
        "id": "B9RlIDGDpqgm",
        "outputId": "27583fd5-f066-4570-bc65-333d8db35df2"
      },
      "outputs": [
        {
          "ename": "SyntaxError",
          "evalue": "ignored",
          "output_type": "error",
          "traceback": [
            "\u001b[0;36m  File \u001b[0;32m\"<ipython-input-22-ffaec85d157a>\"\u001b[0;36m, line \u001b[0;32m4\u001b[0m\n\u001b[0;31m    Interest(r=0.05,5000,3)\u001b[0m\n\u001b[0m                   ^\u001b[0m\n\u001b[0;31mSyntaxError\u001b[0m\u001b[0;31m:\u001b[0m positional argument follows keyword argument\n"
          ]
        }
      ],
      "source": [
        "def Interest(p,c,t=2,r=0.09):\n",
        "  return p*t*r\n",
        "\n",
        "Interest(r=0.05,5000,3)"
      ]
    },
    {
      "cell_type": "code",
      "execution_count": null,
      "metadata": {
        "colab": {
          "base_uri": "https://localhost:8080/"
        },
        "id": "JVQC6l8wusC_",
        "outputId": "a478cd86-0820-4758-f455-f7ce44521877"
      },
      "outputs": [
        {
          "name": "stdout",
          "output_type": "stream",
          "text": [
            "5\n",
            "3\n",
            "2\n",
            "1\n"
          ]
        }
      ],
      "source": [
        "A=int(input())\n",
        "B=int(input())\n",
        "C=int(input())\n",
        "d=0\n",
        "cnt=0\n",
        "while A>0:\n",
        "  d=B+C\n",
        "  if A>=d:\n",
        "    A=A-d\n",
        "    cnt=cnt+1\n",
        "  elif d>A:\n",
        "    A=abs(d-A)\n",
        "    cnt=cnt+1\n",
        "print(cnt)\n",
        "\n"
      ]
    },
    {
      "cell_type": "code",
      "execution_count": null,
      "metadata": {
        "colab": {
          "base_uri": "https://localhost:8080/"
        },
        "id": "_GYOUdFauk21",
        "outputId": "2ad45f0a-39b9-49bb-b34d-dc4e747edf91"
      },
      "outputs": [
        {
          "name": "stdout",
          "output_type": "stream",
          "text": [
            "53953\n",
            "270\n"
          ]
        }
      ],
      "source": [
        "import math\n",
        "A=int(input())\n",
        "A=A/200.0\n",
        "if A >= 0:\n",
        "   A += 0.5\n",
        "else: \n",
        "   A -= 0.5\n",
        "k = 0\n",
        "if A >= 0:\n",
        "   k = math.floor(A)\n",
        "else: \n",
        "   k = math.ceil(A)\n",
        "print(k)\n",
        "            \n"
      ]
    },
    {
      "cell_type": "code",
      "execution_count": null,
      "metadata": {
        "colab": {
          "base_uri": "https://localhost:8080/"
        },
        "id": "mr9eisRFaDoO",
        "outputId": "827b9989-a36c-4629-a2c6-cc07d52494ea"
      },
      "outputs": [
        {
          "name": "stdout",
          "output_type": "stream",
          "text": [
            "4\n",
            "3\n",
            "2\n",
            "2\n"
          ]
        }
      ],
      "source": [
        "A=int(input())\n",
        "B=int(input())\n",
        "C=int(input())\n",
        "d=0\n",
        "cnt=0\n",
        "while C>0:\n",
        "  C=B+C\n",
        "  C=C-A\n",
        "  cnt=cnt+1\n",
        "print(cnt)\n",
        " \n",
        "\n"
      ]
    },
    {
      "cell_type": "code",
      "execution_count": null,
      "metadata": {
        "colab": {
          "base_uri": "https://localhost:8080/"
        },
        "id": "TLTko3PBi4dH",
        "outputId": "dd52c662-6912-4653-855c-592517de50b8"
      },
      "outputs": [
        {
          "name": "stdout",
          "output_type": "stream",
          "text": [
            "129\n",
            "31\n",
            "Normal weight\n",
            "18.6\n"
          ]
        }
      ],
      "source": [
        "A=int(input())\n",
        "B=int(input())\n",
        "hght_meter=A*0.01\n",
        "BMI=round((B/(hght_meter*hght_meter)),1)\n",
        "if BMI<18.5:\n",
        "  print(\"Underweight\")\n",
        "  print(BMI)\n",
        "elif 18.5<BMI<24.9:\n",
        "  print(\"Normal weight\")\n",
        "  print(BMI)\n",
        "elif 24.9<BMI<29.9:\n",
        "  print(\"Overweight\")\n",
        "  print(BMI)\n",
        "elif BMI>29.9:\n",
        "  print(\"Obese\")\n",
        "  print(BMI)"
      ]
    },
    {
      "cell_type": "code",
      "execution_count": null,
      "metadata": {
        "colab": {
          "base_uri": "https://localhost:8080/"
        },
        "id": "DHD5d3Ec5SmB",
        "outputId": "e090a353-803a-4d7f-dba5-f6a2f7702937"
      },
      "outputs": [
        {
          "name": "stdout",
          "output_type": "stream",
          "text": [
            "-1\n"
          ]
        }
      ],
      "source": [
        "def calculate(A=659176222,B=-659176222):\n",
        "  C=A//B\n",
        "  print(C)\n",
        "calculate()"
      ]
    },
    {
      "cell_type": "code",
      "execution_count": null,
      "metadata": {
        "colab": {
          "background_save": true
        },
        "id": "qumk_BbU7sNx"
      },
      "outputs": [],
      "source": [
        "runs=[10,20,30,40,50]\n"
      ]
    },
    {
      "cell_type": "code",
      "execution_count": null,
      "metadata": {
        "id": "nbnzxl9W8oya",
        "colab": {
          "base_uri": "https://localhost:8080/"
        },
        "outputId": "4f46226a-c700-4bd4-8b40-38b5b065b2b3"
      },
      "outputs": [
        {
          "output_type": "stream",
          "name": "stdout",
          "text": [
            "11\n"
          ]
        }
      ],
      "source": [
        "lst=[56, 63, 87, 24, 32, 13, 15, 19, 44, 52]\n",
        "def fidd(lst):\n",
        "  diff = 0\n",
        "  sum_even=0\n",
        "  sum_odd=0\n",
        "  for x in lst:\n",
        "      if x%2==0:\n",
        "         sum_even=sum_even+x\n",
        "      else:\n",
        "         sum_odd=sum_odd+x\n",
        "      if sum_even>=sum_odd:\n",
        "         diff=sum_even-sum_odd\n",
        "      else:\n",
        "         diff=sum_odd-sum_even\n",
        "    \n",
        "  return diff\n",
        "  \n",
        "\n",
        "print(fidd(lst))"
      ]
    },
    {
      "cell_type": "code",
      "source": [
        "lst=[52, 63, 87, 22, 32, 22, 15, 19, 44, 52]\n",
        "dupel=lst[0]\n",
        "def dup(lst):\n",
        "  for x in lst:\n",
        "    if dupel==x:\n",
        "      print(True)\n",
        "    \n",
        "dup(lst)"
      ],
      "metadata": {
        "colab": {
          "base_uri": "https://localhost:8080/"
        },
        "id": "JkWjObyeB8Dx",
        "outputId": "c4c4b3c4-dcfb-4b55-945c-a61573aab8a3"
      },
      "execution_count": null,
      "outputs": [
        {
          "output_type": "stream",
          "name": "stdout",
          "text": [
            "True\n",
            "True\n"
          ]
        }
      ]
    },
    {
      "cell_type": "code",
      "source": [
        "ans=None\n",
        "def dup_check(lst):\n",
        "  for x in range(len(lst)-1):\n",
        "    if lst[x]==lst[x+1]:\n",
        "      ans=True\n",
        "      break\n",
        "    else:\n",
        "      ans=False\n",
        "  return ans\n",
        "\n",
        "lst = [13, 1, 1, 1, 13]\n",
        "dup_check(lst)"
      ],
      "metadata": {
        "colab": {
          "base_uri": "https://localhost:8080/"
        },
        "id": "Eq7z3u2xgxxD",
        "outputId": "00661a80-592b-48f2-b90b-4581b5cb274f"
      },
      "execution_count": null,
      "outputs": [
        {
          "output_type": "execute_result",
          "data": {
            "text/plain": [
              "True"
            ]
          },
          "metadata": {},
          "execution_count": 5
        }
      ]
    },
    {
      "cell_type": "code",
      "source": [
        "sampl = None\n",
        "def dup_anywhere_check(lst):\n",
        "  for x in range(len(lst)-1):\n",
        "    if sampl!=lst[x]:\n",
        "      sampl=x\n",
        "      if lst[x]==lst[x+1]:\n",
        "        print(\"yes\")\n",
        "lst = [13, 1, 1, 1, 13]\n",
        "dup_anywhere_check(lst)"
      ],
      "metadata": {
        "colab": {
          "base_uri": "https://localhost:8080/",
          "height": 235
        },
        "id": "FOzRk3yx9beb",
        "outputId": "353fea19-4806-4b39-914d-fd1437e2afbf"
      },
      "execution_count": null,
      "outputs": [
        {
          "output_type": "error",
          "ename": "NameError",
          "evalue": "ignored",
          "traceback": [
            "\u001b[0;31m---------------------------------------------------------------------------\u001b[0m",
            "\u001b[0;31mNameError\u001b[0m                                 Traceback (most recent call last)",
            "\u001b[0;32m<ipython-input-7-b7471d461588>\u001b[0m in \u001b[0;36m<module>\u001b[0;34m\u001b[0m\n\u001b[0;32m----> 1\u001b[0;31m \u001b[0msampl\u001b[0m \u001b[0;34m=\u001b[0m \u001b[0mst2\u001b[0m\u001b[0;34m\u001b[0m\u001b[0;34m\u001b[0m\u001b[0m\n\u001b[0m\u001b[1;32m      2\u001b[0m \u001b[0;32mdef\u001b[0m \u001b[0mdup_anywhere_check\u001b[0m\u001b[0;34m(\u001b[0m\u001b[0mlst\u001b[0m\u001b[0;34m)\u001b[0m\u001b[0;34m:\u001b[0m\u001b[0;34m\u001b[0m\u001b[0;34m\u001b[0m\u001b[0m\n\u001b[1;32m      3\u001b[0m   \u001b[0;32mfor\u001b[0m \u001b[0mx\u001b[0m \u001b[0;32min\u001b[0m \u001b[0mrange\u001b[0m\u001b[0;34m(\u001b[0m\u001b[0mlen\u001b[0m\u001b[0;34m(\u001b[0m\u001b[0mlst\u001b[0m\u001b[0;34m)\u001b[0m\u001b[0;34m-\u001b[0m\u001b[0;36m1\u001b[0m\u001b[0;34m)\u001b[0m\u001b[0;34m:\u001b[0m\u001b[0;34m\u001b[0m\u001b[0;34m\u001b[0m\u001b[0m\n\u001b[1;32m      4\u001b[0m     \u001b[0;32mif\u001b[0m \u001b[0msampl\u001b[0m\u001b[0;34m!=\u001b[0m\u001b[0mlst\u001b[0m\u001b[0;34m[\u001b[0m\u001b[0mx\u001b[0m\u001b[0;34m]\u001b[0m\u001b[0;34m:\u001b[0m\u001b[0;34m\u001b[0m\u001b[0;34m\u001b[0m\u001b[0m\n\u001b[1;32m      5\u001b[0m       \u001b[0msampl\u001b[0m\u001b[0;34m=\u001b[0m\u001b[0mx\u001b[0m\u001b[0;34m\u001b[0m\u001b[0;34m\u001b[0m\u001b[0m\n",
            "\u001b[0;31mNameError\u001b[0m: name 'st2' is not defined"
          ]
        }
      ]
    },
    {
      "cell_type": "code",
      "source": [
        "LST=[1,2,3,4,['A',['x','y'],'C'],5]\n"
      ],
      "metadata": {
        "id": "uFt23lNmCMcS"
      },
      "execution_count": null,
      "outputs": []
    },
    {
      "cell_type": "code",
      "source": [
        "LST[4]"
      ],
      "metadata": {
        "colab": {
          "base_uri": "https://localhost:8080/"
        },
        "id": "bfRKBwt1NMSl",
        "outputId": "ed1dd2de-71b0-4a23-ce9b-4bc824b8a8fb"
      },
      "execution_count": null,
      "outputs": [
        {
          "output_type": "execute_result",
          "data": {
            "text/plain": [
              "['A', ['x', 'y'], 'C']"
            ]
          },
          "metadata": {},
          "execution_count": 6
        }
      ]
    },
    {
      "cell_type": "code",
      "source": [
        "LST[4][1]"
      ],
      "metadata": {
        "id": "CaiIJFV8aAGL",
        "colab": {
          "base_uri": "https://localhost:8080/"
        },
        "outputId": "a7754fc3-0000-4481-c667-a0fdfcb7ac19"
      },
      "execution_count": null,
      "outputs": [
        {
          "output_type": "execute_result",
          "data": {
            "text/plain": [
              "['x', 'y']"
            ]
          },
          "metadata": {},
          "execution_count": 7
        }
      ]
    },
    {
      "cell_type": "code",
      "source": [
        "LST[4][1].remove('y')"
      ],
      "metadata": {
        "id": "Qcbo-dUglebx"
      },
      "execution_count": null,
      "outputs": []
    },
    {
      "cell_type": "code",
      "source": [
        "LST"
      ],
      "metadata": {
        "colab": {
          "base_uri": "https://localhost:8080/"
        },
        "id": "ZG3Bc-Bqlmoh",
        "outputId": "c1549981-ce60-4a67-fa3f-b56b5098a9c7"
      },
      "execution_count": null,
      "outputs": [
        {
          "output_type": "execute_result",
          "data": {
            "text/plain": [
              "[1, 2, 3, 4, ['A', ['x'], 'C'], 5]"
            ]
          },
          "metadata": {},
          "execution_count": 10
        }
      ]
    },
    {
      "cell_type": "code",
      "source": [
        "N=int(input())\n",
        "A=input()\n",
        "X=int(input())\n",
        "l=A.split()\n",
        "for x in range(len(l)):\n",
        "    l[x] =int(l[x])\n",
        "l.pop(X)\n",
        "print(l)"
      ],
      "metadata": {
        "colab": {
          "base_uri": "https://localhost:8080/"
        },
        "id": "has8imrczsIq",
        "outputId": "e35378b8-fda2-439c-e694-1b28909062be"
      },
      "execution_count": null,
      "outputs": [
        {
          "output_type": "stream",
          "name": "stdout",
          "text": [
            "4\n",
            "1 2 3 4 5 6\n",
            "3\n",
            "[1, 2, 3, 5, 6]\n"
          ]
        }
      ]
    },
    {
      "cell_type": "code",
      "source": [
        "n=list(map(int, input().split()))\n",
        "print(n)"
      ],
      "metadata": {
        "colab": {
          "base_uri": "https://localhost:8080/"
        },
        "id": "fwFThitb3Mvd",
        "outputId": "91d0f6d6-1cb4-4d28-acf8-9f5fdb3db527"
      },
      "execution_count": null,
      "outputs": [
        {
          "output_type": "stream",
          "name": "stdout",
          "text": [
            "4 1 2 3 4 5\n",
            "[4, 1, 2, 3, 4, 5]\n"
          ]
        }
      ]
    },
    {
      "cell_type": "code",
      "source": [
        "N = list(map(int,input().split()))\n",
        "N_num = N.pop(0)\n",
        "print(N)\n",
        "print(N_num)"
      ],
      "metadata": {
        "colab": {
          "base_uri": "https://localhost:8080/"
        },
        "id": "WmERy8yPZqfi",
        "outputId": "bd42e5e9-1354-4f6b-9310-5923c7ea31ae"
      },
      "execution_count": null,
      "outputs": [
        {
          "output_type": "stream",
          "name": "stdout",
          "text": [
            "4 1 2 3 4 \n",
            "[1, 2, 3, 4]\n",
            "4\n"
          ]
        }
      ]
    },
    {
      "cell_type": "code",
      "source": [
        "type(N[1])"
      ],
      "metadata": {
        "colab": {
          "base_uri": "https://localhost:8080/"
        },
        "id": "Kfw3qdHmdhVq",
        "outputId": "6485856d-7f61-4d9f-d203-80fc812834c0"
      },
      "execution_count": null,
      "outputs": [
        {
          "output_type": "execute_result",
          "data": {
            "text/plain": [
              "int"
            ]
          },
          "metadata": {},
          "execution_count": 5
        }
      ]
    },
    {
      "cell_type": "code",
      "source": [
        "lst=[5,4,2,2,5]\n",
        "found=0\n",
        "def solve(A, B):\n",
        "      global found\n",
        "      for x in range(len(A)):\n",
        "          if A[x]==B:\n",
        "              found=found+1\n",
        "          else:\n",
        "              pass\n",
        "      return found\n",
        "\n",
        "\n",
        "print(solve(lst,5))"
      ],
      "metadata": {
        "colab": {
          "base_uri": "https://localhost:8080/"
        },
        "id": "bqD16ONRfXi_",
        "outputId": "eda5ad07-bebc-4138-e198-0cf1d068f9e0"
      },
      "execution_count": null,
      "outputs": [
        {
          "output_type": "stream",
          "name": "stdout",
          "text": [
            "2\n"
          ]
        }
      ]
    },
    {
      "cell_type": "markdown",
      "source": [
        "**FIND MAX AND MIN VALUE**"
      ],
      "metadata": {
        "id": "PoW4tSp6QT0e"
      }
    },
    {
      "cell_type": "code",
      "source": [
        "nums = [1, 2, -50, -8, -9, 1, 0, -45, 23, 867, 12]\n",
        "# Minimum\n",
        "minVal = nums[0]\n",
        "maxVal = nums[0]\n",
        "\n",
        "for x in nums:\n",
        "    if minVal > x:\n",
        "        minVal = x\n",
        "    if maxVal <x:\n",
        "        maxVal = x\n",
        "        \n",
        "print(minVal)\n",
        "print(maxVal)"
      ],
      "metadata": {
        "id": "VslRD-ZFqqkf",
        "colab": {
          "base_uri": "https://localhost:8080/"
        },
        "outputId": "c987d77d-7172-4e8d-b9ad-3c4dd80731fa"
      },
      "execution_count": null,
      "outputs": [
        {
          "output_type": "stream",
          "name": "stdout",
          "text": [
            "-50\n",
            "867\n"
          ]
        }
      ]
    },
    {
      "cell_type": "code",
      "source": [
        "A=list(map(int,input().split()))\n",
        "print(A)\n",
        "print(A[0])"
      ],
      "metadata": {
        "colab": {
          "base_uri": "https://localhost:8080/"
        },
        "id": "y9etdd5Jlt9X",
        "outputId": "79cf2e9c-d5bc-47e8-acd1-fb408f8c92b8"
      },
      "execution_count": null,
      "outputs": [
        {
          "output_type": "stream",
          "name": "stdout",
          "text": [
            "4 1 2 3 5 \n",
            "[4, 1, 2, 3, 5]\n",
            "4\n"
          ]
        }
      ]
    },
    {
      "cell_type": "markdown",
      "source": [
        "**REVERSAL OF LIST**"
      ],
      "metadata": {
        "id": "5IDRoSoQRJKt"
      }
    },
    {
      "cell_type": "code",
      "source": [
        "#Trial reversal of list\n",
        "A=int(input())\n",
        "N=input()\n",
        "l=N.split()\n",
        "for x in range(A):\n",
        "  l[x]=int(l[x])\n",
        "p=l.pop(A-1)\n",
        "l.insert(0,p)\n",
        "print(l)\n",
        "\n",
        "\n",
        " "
      ],
      "metadata": {
        "colab": {
          "base_uri": "https://localhost:8080/"
        },
        "id": "fQjLH_04mZHT",
        "outputId": "b6310b27-07c2-4340-cf5c-01dfc07865d3"
      },
      "execution_count": null,
      "outputs": [
        {
          "output_type": "stream",
          "name": "stdout",
          "text": [
            "5\n",
            "1 2 3 4 5\n",
            "[5, 1, 2, 3, 4]\n"
          ]
        }
      ]
    },
    {
      "cell_type": "code",
      "source": [
        "def shopping_list():\n",
        "  shoplist=[]\n",
        "  ''' input:take items as inputs (strings) from the user\n",
        "      output:Print the shopping list.'''\n",
        "  # YOUR CODE GOES HERE\n",
        "  T=True\n",
        "  A='end'\n",
        "  while True:\n",
        "      N=input()\n",
        "      shoplist.append(N)\n",
        "      if N==\"end\":\n",
        "          break\n",
        "  shoplist.remove(\"end\")\n",
        "  print(shoplist)\n",
        "  \n",
        "  '''Calling the function'''\n",
        "\n",
        "shopping_list() "
      ],
      "metadata": {
        "colab": {
          "base_uri": "https://localhost:8080/"
        },
        "id": "qRvGjQvrriW4",
        "outputId": "46cdcf0f-0419-4101-f2d2-46fd37b50497"
      },
      "execution_count": null,
      "outputs": [
        {
          "output_type": "stream",
          "name": "stdout",
          "text": [
            "diya\n",
            "tel\n",
            "patakha\n",
            "end\n",
            "['diya', 'tel', 'patakha']\n"
          ]
        }
      ]
    },
    {
      "cell_type": "code",
      "source": [
        "nums = [5, 2, 7, -8, -9, 1, 0, -45, 23, 867, 12]\n",
        "N = len(nums)\n",
        "for i in range(N-1,-1,-1):\n",
        "    print(nums[i], end=' ')"
      ],
      "metadata": {
        "colab": {
          "base_uri": "https://localhost:8080/"
        },
        "id": "uJPgIk5swe_v",
        "outputId": "546a4e74-0a08-4538-ec81-dd5c764de9ed"
      },
      "execution_count": null,
      "outputs": [
        {
          "output_type": "stream",
          "name": "stdout",
          "text": [
            "12 867 23 -45 0 1 -9 -8 7 2 5 "
          ]
        }
      ]
    },
    {
      "cell_type": "code",
      "source": [
        "N=list(map(int,input().split()))\n",
        "N.pop(0)\n",
        "N_REV=[]\n",
        "for x in range(len(N)-1,-1,-1):\n",
        "    N_REV.append(N[x])\n",
        "print(N_REV)\n"
      ],
      "metadata": {
        "colab": {
          "base_uri": "https://localhost:8080/"
        },
        "id": "w6jUjtspyKww",
        "outputId": "c3c9244f-a66e-436e-f25f-302e4ad7e2cc"
      },
      "execution_count": null,
      "outputs": [
        {
          "output_type": "stream",
          "name": "stdout",
          "text": [
            "5 1 2 3 4 5\n",
            "[5, 4, 3, 2, 1]\n"
          ]
        }
      ]
    },
    {
      "cell_type": "code",
      "source": [],
      "metadata": {
        "id": "LLa82rPc0Smt"
      },
      "execution_count": null,
      "outputs": []
    }
  ],
  "metadata": {
    "colab": {
      "collapsed_sections": [],
      "provenance": [],
      "authorship_tag": "ABX9TyNkAaG1lrBLS6/BCd3cSENq",
      "include_colab_link": true
    },
    "kernelspec": {
      "display_name": "Python 3",
      "name": "python3"
    },
    "language_info": {
      "name": "python"
    }
  },
  "nbformat": 4,
  "nbformat_minor": 0
}