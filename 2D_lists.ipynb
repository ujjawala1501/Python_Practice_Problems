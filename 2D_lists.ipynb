{
  "nbformat": 4,
  "nbformat_minor": 0,
  "metadata": {
    "colab": {
      "provenance": [],
      "collapsed_sections": [],
      "authorship_tag": "ABX9TyNJ/9rpXm5TQ5hqGxBBVs4Q",
      "include_colab_link": true
    },
    "kernelspec": {
      "name": "python3",
      "display_name": "Python 3"
    },
    "language_info": {
      "name": "python"
    }
  },
  "cells": [
    {
      "cell_type": "markdown",
      "metadata": {
        "id": "view-in-github",
        "colab_type": "text"
      },
      "source": [
        "<a href=\"https://colab.research.google.com/github/ujjawala1501/Python_Practice_Problems/blob/main/2D_lists.ipynb\" target=\"_parent\"><img src=\"https://colab.research.google.com/assets/colab-badge.svg\" alt=\"Open In Colab\"/></a>"
      ]
    },
    {
      "cell_type": "markdown",
      "source": [
        "**QUESTION 1**\n",
        "\n",
        "Given two arrays, some operations are performed on these arrays, and the following three arrays are obtained after the operations as output.\n",
        "What are those operations that are performed on the arrays?\n",
        "\n",
        "arr1 = [1,2,3]\n",
        "arr2 = [6,5,4]\n",
        "\n",
        "I.   arr1   = [1,2,3,6,5,4]\n",
        "\n",
        "II.  arr1   = [1,2,3,[6,5,4]]\n",
        "\n",
        "III. arr2  = [4,5,6]\n",
        "\n",
        "**ANSWER**\n",
        "\n",
        "extend, append, sort"
      ],
      "metadata": {
        "id": "rVHGCZrP45zJ"
      }
    },
    {
      "cell_type": "markdown",
      "source": [
        "**QUESTION 2**\n",
        "\n",
        "You are given a matrix A and and an integer B, you have to perform scalar multiplication of matrix A with an integer B.\n",
        "\n",
        "INPUT:\n",
        "\n",
        "A = [[1, 2, 3],[4, 5, 6],[7, 8, 9]] AND B = 2 \n",
        "\n",
        "OUTPUT:\n",
        "\n",
        "[[2, 4, 6], [8, 10, 12], [14, 16, 18]]\n",
        "\n"
      ],
      "metadata": {
        "id": "pSRjuWmK5J0P"
      }
    },
    {
      "cell_type": "code",
      "execution_count": 13,
      "metadata": {
        "colab": {
          "base_uri": "https://localhost:8080/"
        },
        "id": "Jg0oIJVc4znO",
        "outputId": "eee95922-a092-4e5f-98bd-30dc584cdbca"
      },
      "outputs": [
        {
          "output_type": "stream",
          "name": "stdout",
          "text": [
            "[[2, 4, 6], [8, 10, 12], [14, 16, 18]]\n"
          ]
        }
      ],
      "source": [
        "A = [[1, 2, 3],[4, 5, 6],[7, 8, 9]]\n",
        "B=2\n",
        "C=[]\n",
        "def solve(A,B):\n",
        "  for i in range(len(A)):\n",
        "    for j in range(len(A[i])):\n",
        "      A[i][j]=A[i][j]*B\n",
        "  return A\n",
        " \n",
        "print(solve(A,B))\n",
        "\n"
      ]
    },
    {
      "cell_type": "markdown",
      "source": [
        "**QUESTION 3**\n",
        "\n",
        "You are given two matrices A & B of equal dimensions and you have to check whether two matrices are equal or not.\n",
        "\n",
        "NOTE: Both matrices are equal if A[i][j] == B[i][j] for all i and j in the given range.\n",
        "\n",
        "Input 1:\n",
        "\n",
        "A = [[1, 2, 3],[4, 5, 6],[7, 8, 9]]\n",
        "B = [[1, 2, 3],[4, 5, 6],[7, 8, 9]]\n",
        "\n",
        "Input 2:\n",
        "\n",
        "A = [[1, 2, 3],[4, 5, 6],[7, 8, 9]]\n",
        "B = [[1, 2, 3],[7, 8, 9],[4, 5, 6]]\n",
        "\n",
        "\n",
        "Example Output\n",
        "\n",
        "Output 1:\n",
        "\n",
        "1\n",
        "\n",
        "Output 2:\n",
        "\n",
        "0"
      ],
      "metadata": {
        "id": "J2sLnjL4_7oP"
      }
    },
    {
      "cell_type": "code",
      "source": [
        "#WORKS WELL\n",
        "A = [[1, 2, 3],[4, 5, 6],[7, 8, 9]] \n",
        "B = [[1, 2, 3],[4, 5, 6],[7, 8, 9]]\n",
        "\n",
        "if A==B:\n",
        "  print(1)\n",
        "else:\n",
        "  print(0)\n",
        "\n",
        "#ANOTHER APPROACH\n",
        "'''\n",
        "    def solve(A, B):\n",
        "        for i in range(len(A)):\n",
        "            for j in range (len(A[i])):\n",
        "                if A[i][j] != B[i][j]:\n",
        "                    return 0\n",
        "        return 1\n",
        "'''"
      ],
      "metadata": {
        "colab": {
          "base_uri": "https://localhost:8080/"
        },
        "id": "kQ9jkrZ96igt",
        "outputId": "7231e098-d2df-472f-e836-c43afe3192bd"
      },
      "execution_count": 16,
      "outputs": [
        {
          "output_type": "stream",
          "name": "stdout",
          "text": [
            "1\n"
          ]
        }
      ]
    },
    {
      "cell_type": "markdown",
      "source": [
        "**QUESTION 4**\n",
        "\n",
        "You are given a 2D integer matrix A, return a 1D integer array containing row-wise sums of original matrix.\n",
        "\n",
        "Input 1:\n",
        "\n",
        "[1,2,3,4]\n",
        "[5,6,7,8]\n",
        "[9,2,3,4]\n",
        "\n",
        "\n",
        "Example Output\n",
        "Output 1:\n",
        "\n",
        "{10,26,18}"
      ],
      "metadata": {
        "id": "Z_4X4oHsDpb2"
      }
    },
    {
      "cell_type": "code",
      "source": [
        "A=[[1,2,3,4],[5,6,7,8],[9,2,3,4]]\n",
        "C=[]\n",
        "for i in range(len(A)):\n",
        "  S=0                          #ALWAYS MAKE SURE TO INITIALIZE A VARIABLE UNDER FIRST LOOP IN SUCH CONDITIONS\n",
        "  for j in range(len(A[i])):\n",
        "    S=S+A[i][j]\n",
        "  C.append(S)\n",
        "print (C)\n"
      ],
      "metadata": {
        "colab": {
          "base_uri": "https://localhost:8080/"
        },
        "id": "V9QAam3MAlmN",
        "outputId": "9ab80dbc-4a18-494d-9b7d-26beb77fabb0"
      },
      "execution_count": 25,
      "outputs": [
        {
          "output_type": "stream",
          "name": "stdout",
          "text": [
            "[10, 26, 18]\n"
          ]
        }
      ]
    },
    {
      "cell_type": "code",
      "source": [],
      "metadata": {
        "id": "Ubtp5ajKEmjj"
      },
      "execution_count": null,
      "outputs": []
    }
  ]
}