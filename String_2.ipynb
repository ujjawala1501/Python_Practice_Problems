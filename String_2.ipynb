{
  "nbformat": 4,
  "nbformat_minor": 0,
  "metadata": {
    "colab": {
      "provenance": [],
      "collapsed_sections": [],
      "authorship_tag": "ABX9TyOUIo4KG6o4MvQFHlNAkoFP",
      "include_colab_link": true
    },
    "kernelspec": {
      "name": "python3",
      "display_name": "Python 3"
    },
    "language_info": {
      "name": "python"
    }
  },
  "cells": [
    {
      "cell_type": "markdown",
      "metadata": {
        "id": "view-in-github",
        "colab_type": "text"
      },
      "source": [
        "<a href=\"https://colab.research.google.com/github/ujjawala1501/Python_Practice_Problems/blob/main/String_2.ipynb\" target=\"_parent\"><img src=\"https://colab.research.google.com/assets/colab-badge.svg\" alt=\"Open In Colab\"/></a>"
      ]
    },
    {
      "cell_type": "markdown",
      "source": [
        "**QUESTION **\n",
        "Check in ascending or descending"
      ],
      "metadata": {
        "id": "uteUR5_dtRH6"
      }
    },
    {
      "cell_type": "code",
      "source": [
        "T=int(input())\n",
        "A_lst=[]\n",
        "cnt=True\n",
        "for i in range(0,T):\n",
        "  N=int(input())\n",
        "  for j in range(0,N):\n",
        "    A=int(input())\n",
        "    A_lst.append(A)\n",
        "for asc in range(1,len(A_lst)):\n",
        "  if A_lst[asc]<A_lst[asc-1]:\n",
        "    cnt=False\n",
        "print(cnt)\n",
        "    \n"
      ],
      "metadata": {
        "colab": {
          "base_uri": "https://localhost:8080/"
        },
        "id": "Q_7waV_keJVz",
        "outputId": "0f632c2c-06d0-4fb9-b1ed-bb1377021f46"
      },
      "execution_count": null,
      "outputs": [
        {
          "output_type": "stream",
          "name": "stdout",
          "text": [
            "1\n",
            "5\n",
            "5\n",
            "4\n",
            "1\n",
            "2\n",
            "3\n",
            "[5, 4, 1, 2, 3]\n",
            "False\n"
          ]
        }
      ]
    },
    {
      "cell_type": "code",
      "source": [
        "T=int(input())\n",
        "cnt=\"DESCENDING\"\n",
        "for i in range(0,T):\n",
        "  N=int(input())\n",
        "  D_lst=[]\n",
        "  for j in range(0,N):\n",
        "    D=int(input())\n",
        "    D_lst.append(D)\n",
        "  for desc in range(1,len(D_lst)):\n",
        "    if D_lst[desc]>D_lst[desc-1]:\n",
        "      cnt=\"ASCENDING\"\n",
        "print(cnt)\n",
        "\n"
      ],
      "metadata": {
        "colab": {
          "base_uri": "https://localhost:8080/"
        },
        "id": "05MBRbdhe2sC",
        "outputId": "a095df4e-4017-4547-938f-db3949535265"
      },
      "execution_count": null,
      "outputs": [
        {
          "output_type": "stream",
          "name": "stdout",
          "text": [
            "2\n",
            "1\n",
            "1\n",
            "4\n",
            "4\n",
            "3\n",
            "2\n",
            "1\n",
            "DESCENDING\n"
          ]
        }
      ]
    },
    {
      "cell_type": "code",
      "source": [
        "A=\"lisamausi ne delhi\"\n",
        "len(A)\n",
        "print(A.split())\n",
        "print(list(A))\n",
        "B=A[-1:-5:-1]\n",
        "print(B)\n",
        "print(A)"
      ],
      "metadata": {
        "id": "TIcjlYC3q8Sd",
        "colab": {
          "base_uri": "https://localhost:8080/"
        },
        "outputId": "a7bfb30e-9c8d-4314-d309-c2949427caa1"
      },
      "execution_count": null,
      "outputs": [
        {
          "output_type": "stream",
          "name": "stdout",
          "text": [
            "['lisamausi', 'ne', 'delhi']\n",
            "['l', 'i', 's', 'a', 'm', 'a', 'u', 's', 'i', ' ', 'n', 'e', ' ', 'd', 'e', 'l', 'h', 'i']\n",
            "ihle\n",
            "lisamausi ne delhi\n"
          ]
        }
      ]
    },
    {
      "cell_type": "code",
      "source": [
        "S=\"Harry potter and the deathly Hollows with hamanD\"\n",
        "\n",
        "c1=S.count(\"and\")\n",
        "print(c1)"
      ],
      "metadata": {
        "id": "NkchbhVzNgHP",
        "colab": {
          "base_uri": "https://localhost:8080/"
        },
        "outputId": "fa7fa79f-0f0f-41a1-b0a9-4837459f9c50"
      },
      "execution_count": null,
      "outputs": [
        {
          "output_type": "stream",
          "name": "stdout",
          "text": [
            "1\n"
          ]
        }
      ]
    },
    {
      "cell_type": "code",
      "source": [
        "a = \"Hello\"\n",
        "b = a\n",
        "a = \"Yello\"\n",
        "print(b)"
      ],
      "metadata": {
        "colab": {
          "base_uri": "https://localhost:8080/"
        },
        "id": "K-EttERL76kp",
        "outputId": "f1e756ff-fecc-4d24-e1ba-7261e2416c72"
      },
      "execution_count": null,
      "outputs": [
        {
          "output_type": "stream",
          "name": "stdout",
          "text": [
            "Hello\n"
          ]
        }
      ]
    },
    {
      "cell_type": "code",
      "source": [
        "a = \"batman\"\n",
        "b = a\n",
        "b.replace(\"b\", \"c\")\n",
        "print(a)\n",
        "print(b)"
      ],
      "metadata": {
        "colab": {
          "base_uri": "https://localhost:8080/"
        },
        "id": "360-iVf5CaMM",
        "outputId": "6ee1f7f3-891f-42af-e336-41bbd62f514d"
      },
      "execution_count": null,
      "outputs": [
        {
          "output_type": "stream",
          "name": "stdout",
          "text": [
            "batman\n",
            "batman\n"
          ]
        }
      ]
    },
    {
      "cell_type": "markdown",
      "source": [
        "**Question 1**\n",
        "\n",
        "You are given a character string A, having length N and an integer ASCII code B.\n",
        "\n",
        "You have to tell the leftmost occurrence of the character having ASCII code equal to B, in A or report that it does not exist"
      ],
      "metadata": {
        "id": "_W6mUHaDdf7E"
      }
    },
    {
      "cell_type": "code",
      "source": [
        "A=\"aaabbc\"\n",
        "B=100\n",
        "'''\n",
        "for i in range(0,len(A)):\n",
        "  if ord(A[i])==B:\n",
        "    print(i)\n",
        "    break\n",
        "    '''\n",
        "\n",
        "Z=chr(B)\n",
        "C=A.find(Z)\n",
        "print(C)"
      ],
      "metadata": {
        "id": "DgicvYF-DBCC",
        "colab": {
          "base_uri": "https://localhost:8080/"
        },
        "outputId": "48f96cf5-e224-4979-da2a-b32685a6ca61"
      },
      "execution_count": null,
      "outputs": [
        {
          "output_type": "stream",
          "name": "stdout",
          "text": [
            "-1\n"
          ]
        }
      ]
    },
    {
      "cell_type": "markdown",
      "source": [
        "**Question**\n",
        "\n",
        "You are given a character string A and two integer ASCII codes B and C.\n",
        "\n",
        "You have to find and replace all the occurrences of the character having ASCII code equal to B with character having ASCII code equal to C and return the resultant string.\n",
        "\n",
        "**Input 1:**\n",
        "\n",
        " A = \"aabbccbb\"\n",
        " B = 98 \n",
        " C = 100\n",
        "\n",
        "**output**\n",
        "\n",
        " aaddccdd "
      ],
      "metadata": {
        "id": "IWt9lmyfgJvj"
      }
    },
    {
      "cell_type": "code",
      "source": [
        "A = \"aabbccbb\" \n",
        "B = 98 \n",
        "C = 100\n",
        "\n",
        "opt=A.replace(chr(B),chr(C))\n",
        "print(opt)"
      ],
      "metadata": {
        "colab": {
          "base_uri": "https://localhost:8080/"
        },
        "id": "yEffsEY1eDLW",
        "outputId": "6f5d2ed7-bff5-4f1a-e034-737bce0451a5"
      },
      "execution_count": null,
      "outputs": [
        {
          "output_type": "stream",
          "name": "stdout",
          "text": [
            "aaddccdd\n"
          ]
        }
      ]
    },
    {
      "cell_type": "markdown",
      "source": [
        "**QUESTION**\n",
        "\n",
        "Given the input date in DD/MM/YYYY format as a string, write a function that returns the converted date in the string formats MM/DD/YYYY and YYYY/MM/DD and return the new date formats.\n",
        "\n",
        "First input line will have the number of test cases. There will be a single line of input for each\n",
        "testcase which will consist of date in the string format DD/MM/YYYY. \n",
        "\n",
        "**Sample Input:**\n",
        "\n",
        "1\n",
        "\"08/12/1998\"\n",
        "\n",
        "**Sample Output:**\n",
        "\n",
        "12/08/1998\n",
        "\n",
        "1998/12/08\n",
        "\n",
        "**DOUBT**\n",
        "HOW TO RETURN TWO VALUES AT ONCE?"
      ],
      "metadata": {
        "id": "cZmnJY6xiuuw"
      }
    },
    {
      "cell_type": "code",
      "source": [
        "def dtfrmt(A):  \n",
        "  \n",
        "  B=A.split(\"/\")\n",
        "  print(B)\n",
        "  C1=['0','0','0']\n",
        "  C2=['0','0','0']\n",
        "\n",
        "  C1[0]=B[1]\n",
        "  C1[1]=B[0]\n",
        "  C1[2]=B[2]\n",
        "  D1=\"/\".join(C1)\n",
        "  \n",
        "  C2[0]=B[2]\n",
        "  C2[1]=B[1]\n",
        "  C2[2]=B[0]\n",
        "  D2=\"/\".join(C2)\n",
        "  \n",
        "  return D1,D2\n",
        "\n",
        "print(dtfrmt(\"08/12/1998\"))"
      ],
      "metadata": {
        "id": "Ker75qWNgoRD",
        "colab": {
          "base_uri": "https://localhost:8080/"
        },
        "outputId": "6a432524-0705-437e-e178-f90887ec5aff"
      },
      "execution_count": null,
      "outputs": [
        {
          "output_type": "stream",
          "name": "stdout",
          "text": [
            "['08', '12', '1998']\n",
            "12/08/1998 1998/12/08\n",
            "None\n"
          ]
        }
      ]
    },
    {
      "cell_type": "code",
      "source": [
        "0%2"
      ],
      "metadata": {
        "colab": {
          "base_uri": "https://localhost:8080/"
        },
        "id": "e9zJPCRVKYQi",
        "outputId": "0fa0a184-34a8-4c2e-c692-8e91e202d451"
      },
      "execution_count": null,
      "outputs": [
        {
          "output_type": "execute_result",
          "data": {
            "text/plain": [
              "0"
            ]
          },
          "metadata": {},
          "execution_count": 6
        }
      ]
    },
    {
      "cell_type": "code",
      "source": [
        "print(\"hello\"+1+2+3)"
      ],
      "metadata": {
        "colab": {
          "base_uri": "https://localhost:8080/",
          "height": 171
        },
        "id": "b3-eOsQnMmnb",
        "outputId": "76fd1c46-83c2-4694-bef0-35132cb3af43"
      },
      "execution_count": null,
      "outputs": [
        {
          "output_type": "error",
          "ename": "TypeError",
          "evalue": "ignored",
          "traceback": [
            "\u001b[0;31m---------------------------------------------------------------------------\u001b[0m",
            "\u001b[0;31mTypeError\u001b[0m                                 Traceback (most recent call last)",
            "\u001b[0;32m<ipython-input-8-ff10e0b69332>\u001b[0m in \u001b[0;36m<module>\u001b[0;34m\u001b[0m\n\u001b[0;32m----> 1\u001b[0;31m \u001b[0mprint\u001b[0m\u001b[0;34m(\u001b[0m\u001b[0;34m\"hello\"\u001b[0m\u001b[0;34m+\u001b[0m\u001b[0;36m1\u001b[0m\u001b[0;34m+\u001b[0m\u001b[0;36m2\u001b[0m\u001b[0;34m+\u001b[0m\u001b[0;36m3\u001b[0m\u001b[0;34m)\u001b[0m\u001b[0;34m\u001b[0m\u001b[0;34m\u001b[0m\u001b[0m\n\u001b[0m",
            "\u001b[0;31mTypeError\u001b[0m: can only concatenate str (not \"int\") to str"
          ]
        }
      ]
    },
    {
      "cell_type": "code",
      "source": [
        "a = \"Random String\"\n",
        "e = \"Rand\" + \"\" + \"om Str\" + \"\" + \"ing\"\n",
        "print(e)\n",
        "d=a[::]\n",
        "print(d)\n",
        "c=str(a)\n",
        "print(c)"
      ],
      "metadata": {
        "id": "U0sRfnFNM_1_",
        "colab": {
          "base_uri": "https://localhost:8080/"
        },
        "outputId": "84c507f9-34f5-4415-f250-aeaf780c85b6"
      },
      "execution_count": null,
      "outputs": [
        {
          "output_type": "stream",
          "name": "stdout",
          "text": [
            "Random String\n",
            "Random String\n",
            "Random String\n"
          ]
        }
      ]
    },
    {
      "cell_type": "markdown",
      "source": [
        "**QUESTION:**\n",
        "\n",
        "Given a list words, complete the function upper_char() to find the words from the list that have the third character in uppercase.\n",
        "\n",
        "words= ['goOd','mORNing','HOW','are','yoU','todAy']\n",
        "\n",
        "def upper_char(words):\n",
        "  output=[]\n",
        "  for i in range(len(words)):\n",
        "    _________________________:\n",
        "      output.append(words[i])\n",
        "  return output\n",
        "upper_char(words)\n",
        "\n",
        "**ANSWER:**\n",
        "\n",
        "if words[i][2].isupper() == True:"
      ],
      "metadata": {
        "id": "8UWYopwBW6a0"
      }
    },
    {
      "cell_type": "markdown",
      "source": [
        "**QUESTION**\n",
        "\n",
        "What will be the value of converted_word, if the following operations in the following code snippet are executed?\n",
        "\n",
        "word = \"Scaler Academy\"\n",
        "n = len(word)\n",
        "word1 = word.upper()\n",
        "word2 = word.lower()\n",
        "\n",
        "converted_word = \"\"\n",
        "\n",
        "for i in range(n):\n",
        "     if i % 2 == 0:\n",
        "          converted_word += word2[i]\n",
        "     else:\n",
        "          converted_word += word1[i]\n",
        "\n",
        "**ANSWER**\n",
        "\n",
        "sCaLeR AcAdEmY is the correct option.\n",
        "According to the code, all even indexed characters are lowercase and all odd places are uppercase.\n",
        "Space character is the same in both lowercase and uppercase, but it is included in the character count.\n"
      ],
      "metadata": {
        "id": "ZFRVRtdZYaE6"
      }
    },
    {
      "cell_type": "markdown",
      "source": [
        "**QUESTION**\n",
        "\n",
        "What will be the output of the following code snippet?\n",
        "\n",
        "a = ‘hello’\n",
        "b = a\n",
        "a = ‘yello’\n",
        "\n",
        "print(b)\n",
        "print(a)\n",
        "\n",
        "**Options:**\n",
        "\n",
        "A) hello\n",
        "  yello"
      ],
      "metadata": {
        "id": "OTbVPgySZrGr"
      }
    },
    {
      "cell_type": "markdown",
      "source": [
        "**QUESTION**\n",
        "\n",
        "Select the correct output of the following code:\n",
        "\n",
        "str1 = \"quick brown fox word!\"\n",
        "print(str1[12:15], str1[:5], str1[-5:-1], str1[8:110], str1[-4:])\n",
        "\n",
        "**ANSWER**\n",
        "\n",
        "fox quick word own fox word! ord!"
      ],
      "metadata": {
        "id": "3DmkKUL_bF-8"
      }
    },
    {
      "cell_type": "code",
      "source": [],
      "metadata": {
        "id": "xTwgEABWW5d5"
      },
      "execution_count": null,
      "outputs": []
    },
    {
      "cell_type": "code",
      "source": [
        "#WHEN WE ONLY HAVE ONE VALUE PYTHON TAKES IT AS A STRING .IF YOU WANT TO CREATE A TUPLE WITH ONLY ONE VALUE DO THIS t=(\"sahil\",) \n",
        "#put one comma at the end or t=\"sahil\",\n",
        "t = (\"Sahil\")\n",
        "type(t)"
      ],
      "metadata": {
        "colab": {
          "base_uri": "https://localhost:8080/"
        },
        "id": "0eMDKdeF1HxF",
        "outputId": "eedbd5dc-975d-463f-8b40-9cf6d915578d"
      },
      "execution_count": null,
      "outputs": [
        {
          "output_type": "execute_result",
          "data": {
            "text/plain": [
              "str"
            ]
          },
          "metadata": {},
          "execution_count": 1
        }
      ]
    },
    {
      "cell_type": "code",
      "source": [
        "print(type((1,2,3)))"
      ],
      "metadata": {
        "colab": {
          "base_uri": "https://localhost:8080/"
        },
        "id": "PYrLdPTiQ2xb",
        "outputId": "551ed4d7-884a-4a49-b30b-8ab0d12dee56"
      },
      "execution_count": null,
      "outputs": [
        {
          "output_type": "stream",
          "name": "stdout",
          "text": [
            "<class 'tuple'>\n"
          ]
        }
      ]
    },
    {
      "cell_type": "code",
      "source": [
        "t=tuple('hello world')\n",
        "print(t)"
      ],
      "metadata": {
        "colab": {
          "base_uri": "https://localhost:8080/"
        },
        "id": "VzlEi-FIRwNQ",
        "outputId": "8b760cc7-4fc9-4f4c-e29b-7bb8ffb76747"
      },
      "execution_count": null,
      "outputs": [
        {
          "output_type": "stream",
          "name": "stdout",
          "text": [
            "('h', 'e', 'l', 'l', 'o', ' ', 'w', 'o', 'r', 'l', 'd')\n"
          ]
        }
      ]
    },
    {
      "cell_type": "code",
      "source": [
        "#What is the output of the following?\n",
        "a = {1,2,3}\n",
        "b = {3,4,5}\n",
        "print(a-b)\n",
        "print(a.union(b))\n",
        "print(a.intersection(b))"
      ],
      "metadata": {
        "id": "h24KJpbCTS2f",
        "colab": {
          "base_uri": "https://localhost:8080/"
        },
        "outputId": "fa33c569-defe-47af-9c06-0ebd379b18b6"
      },
      "execution_count": 1,
      "outputs": [
        {
          "output_type": "stream",
          "name": "stdout",
          "text": [
            "Object `following` not found.\n",
            "{1, 2}\n",
            "{1, 2, 3, 4, 5}\n",
            "{3}\n"
          ]
        }
      ]
    },
    {
      "cell_type": "code",
      "source": [
        "s = \"hello\"\n",
        "print(s[0:9])"
      ],
      "metadata": {
        "colab": {
          "base_uri": "https://localhost:8080/"
        },
        "id": "WgPvSlpbRSU-",
        "outputId": "fbaa1428-5404-4bcb-820a-f84c668eb318"
      },
      "execution_count": 2,
      "outputs": [
        {
          "output_type": "stream",
          "name": "stdout",
          "text": [
            "hello\n"
          ]
        }
      ]
    },
    {
      "cell_type": "code",
      "source": [],
      "metadata": {
        "id": "i0fQRM8oRXva"
      },
      "execution_count": null,
      "outputs": []
    }
  ]
}