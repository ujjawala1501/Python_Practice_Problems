{
  "nbformat": 4,
  "nbformat_minor": 0,
  "metadata": {
    "colab": {
      "provenance": [],
      "collapsed_sections": [],
      "authorship_tag": "ABX9TyOfNObzWxhmqSHDHWxkqSxE",
      "include_colab_link": true
    },
    "kernelspec": {
      "name": "python3",
      "display_name": "Python 3"
    },
    "language_info": {
      "name": "python"
    }
  },
  "cells": [
    {
      "cell_type": "markdown",
      "metadata": {
        "id": "view-in-github",
        "colab_type": "text"
      },
      "source": [
        "<a href=\"https://colab.research.google.com/github/ujjawala1501/Python_Practice_Problems/blob/main/List_2D_problems.ipynb\" target=\"_parent\"><img src=\"https://colab.research.google.com/assets/colab-badge.svg\" alt=\"Open In Colab\"/></a>"
      ]
    },
    {
      "cell_type": "markdown",
      "source": [
        "DOUBTS\n",
        " How column is len(A[0]).\n",
        "\n",
        "**len(A[0]) gives length of first row and it eventually means number of columns.**"
      ],
      "metadata": {
        "id": "bIwAVyRgl_9p"
      }
    },
    {
      "cell_type": "markdown",
      "source": [
        "You are given two matrices A & B of same size, you have to return another matrix which is the sum of A and B."
      ],
      "metadata": {
        "id": "FyXJv8Wv8fkQ"
      }
    },
    {
      "cell_type": "code",
      "execution_count": null,
      "metadata": {
        "colab": {
          "base_uri": "https://localhost:8080/"
        },
        "id": "GrS7774R8ZxN",
        "outputId": "40703952-e948-4fca-984d-701293933765"
      },
      "outputs": [
        {
          "output_type": "stream",
          "name": "stdout",
          "text": [
            "2\n",
            "2\n",
            "[[4, 6], [10, 12]]\n"
          ]
        }
      ],
      "source": [
        "A=[[1,2]\n",
        "  ,[4,5]]\n",
        "B=[[3,4],\n",
        "   [6,7]]\n",
        "\n",
        "C=[]\n",
        "rows=len(A)\n",
        "print(rows)\n",
        "column=len(A[0])\n",
        "print(column)\n",
        "for i in range(rows):\n",
        "  sumofrow=[]\n",
        "  for j in range(column):\n",
        "    s=A[i][j]+B[i][j]\n",
        "    sumofrow.append(s)\n",
        "  C.append(sumofrow)\n",
        "print(C)\n",
        "\n",
        "\n",
        "#ANOTHER APPROACH THIS CAN BE USED TO SUBTRACT AS WELL\n",
        "'''\n",
        "A=[[1,2,3],\n",
        "   [2,3,4]]\n",
        "B=[[1,2,3],\n",
        "   [2,3,4]]\n",
        "\n",
        "row=len(A)\n",
        "column=len(A[0])\n",
        "C=[[0,0,0],\n",
        "   [0,0,0]]\n",
        "for i in range(row):\n",
        "  for j in range(column):\n",
        "    C[i][j]=A[i][j]+B[i][j]\n",
        "print(C)\n",
        "'''\n"
      ]
    },
    {
      "cell_type": "markdown",
      "source": [
        "You are given two matrices A & B of same size, you have to return another matrix which is the subtraction of A and B."
      ],
      "metadata": {
        "id": "L1DBu9uzd97j"
      }
    },
    {
      "cell_type": "code",
      "source": [
        "e=[[1,2,3]\n",
        "  ,[4,5,6]]\n",
        "d=[[3,4,2],\n",
        "   [6,7,4]]\n",
        "\n",
        "C=[]\n",
        "\n",
        "rows=len(e)\n",
        "print(rows)\n",
        "coumn=len(e[0])\n",
        "print(column)\n",
        "\n",
        "for i  in range(0,rows):\n",
        "  SubOfRow=[]\n",
        "  for j in range(0,column):\n",
        "    e[i][j]=e[i][j]-d[i][j]\n",
        "  #  SubOfRow.append(subtract)\n",
        " # C.append(SubOfRow)\n",
        "print(e)"
      ],
      "metadata": {
        "colab": {
          "base_uri": "https://localhost:8080/"
        },
        "id": "zbUSqmav9QyI",
        "outputId": "63ef5599-f87b-4958-abd1-779646305a8c"
      },
      "execution_count": null,
      "outputs": [
        {
          "output_type": "stream",
          "name": "stdout",
          "text": [
            "2\n",
            "2\n",
            "[[-2, -2, 3], [-2, -2, 6]]\n"
          ]
        }
      ]
    },
    {
      "cell_type": "markdown",
      "source": [
        "\n",
        "Make a transpose of matrix\n",
        "A=[[1,2,3],\n",
        "   [4,5,6],\n",
        "   [7,8,9]]\n",
        "\n",
        "**The method can differ based on what type of matrix we are dealing with for square matrix simply swap values using temp variable and for other type matrices we will need another empty list to store the values and the for loops will be reverted like (column->row)**"
      ],
      "metadata": {
        "id": "JBDU8pBHeRQ2"
      }
    },
    {
      "cell_type": "code",
      "source": [
        "#THIS METHOD WILL WORK FOR ALL THE MATRIXES EVEN WHICH ARE NOT SQUARE MATRIX\n",
        "'''\n",
        "A=[[1,2,3], \n",
        "   [4,5,6]]\n",
        "\n",
        "row=len(A)\n",
        "column=len(A[0])\n",
        "transpose=[]\n",
        "for i in range(column):\n",
        "    temp=[]\n",
        "    for j in range(row):\n",
        "        temp.append(A[j][i])\n",
        "    transpose.append(temp)\n",
        "print(transpose)\n",
        "'''\n",
        "#ANOTHER METHOD TO TRANSPOSE SQUARE MATRIX \n",
        "A=[[1,2,3],\n",
        "   [4,5,6],\n",
        "   [7,8,9]]\n",
        "\n",
        "row =len(A)\n",
        "column=len(A[0])\n",
        "temp=[]\n",
        "for i in range(row):\n",
        "  for j in range(i):\n",
        "    temp=A[i][j]\n",
        "    A[i][j]=A[j][i]\n",
        "    A[j][i]=temp\n",
        "print(A)\n"
      ],
      "metadata": {
        "id": "sQ1f9lHHA5t1",
        "colab": {
          "base_uri": "https://localhost:8080/"
        },
        "outputId": "ab48507b-5eb9-4de5-b0b0-50dd7793ee3a"
      },
      "execution_count": 2,
      "outputs": [
        {
          "output_type": "stream",
          "name": "stdout",
          "text": [
            "[[1, 4, 7], [2, 5, 8], [3, 6, 9]]\n"
          ]
        }
      ]
    },
    {
      "cell_type": "markdown",
      "source": [
        "You are given a N X N square integer matrix A. You have to tell whether A is an identity matrix or not.\n",
        "\n",
        "Identity matrix is a special square matrix whose main diagonal elements are equal to 1 and all other elements are 0."
      ],
      "metadata": {
        "id": "XBM1TE4Icmxy"
      }
    },
    {
      "cell_type": "code",
      "source": [
        "A=[[1, 0, 0],\n",
        "  [0, 1, 0],\n",
        "  [0, 0, 1]]\n",
        "  \n",
        "row=len(A)\n",
        "column=len(A[0])\n",
        "cntr=0\n",
        "cnt2=0\n",
        "for i in range(row):\n",
        "  for j in range(column):\n",
        "    if i==j:\n",
        "      if A[i][j]==1:\n",
        "        pass\n",
        "      else:\n",
        "        cntr=1\n",
        "    if i!=j:\n",
        "      if A[i][j]!=0:\n",
        "        cnt2=1\n",
        "\n",
        "if cnt2==1 or cntr==1:\n",
        "  print(0)\n",
        "print(1)\n",
        "\n",
        "'''\n",
        "def solve(self, A):\n",
        "N = len(A)\n",
        "\n",
        "for i in range(0, N):\n",
        "    for j in range(0, N):\n",
        "        if i == j and A[i][j] != 1:\n",
        "            return 0\n",
        "        if i != j and A[i][j] != 0:\n",
        "            return 0\n",
        "\n",
        "return 1\n",
        "'''"
      ],
      "metadata": {
        "colab": {
          "base_uri": "https://localhost:8080/"
        },
        "id": "3xMFluaVq79A",
        "outputId": "058ff618-5000-4f34-e3e3-2466f52f143e"
      },
      "execution_count": null,
      "outputs": [
        {
          "output_type": "stream",
          "name": "stdout",
          "text": [
            "1\n"
          ]
        }
      ]
    },
    {
      "cell_type": "code",
      "source": [],
      "metadata": {
        "id": "gccZDwHFfWED"
      },
      "execution_count": null,
      "outputs": []
    }
  ]
}