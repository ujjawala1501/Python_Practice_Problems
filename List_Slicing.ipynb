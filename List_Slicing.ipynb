{
  "nbformat": 4,
  "nbformat_minor": 0,
  "metadata": {
    "colab": {
      "provenance": [],
      "collapsed_sections": [],
      "authorship_tag": "ABX9TyN9vDgq5gA1Hl9aWILMx1xe",
      "include_colab_link": true
    },
    "kernelspec": {
      "name": "python3",
      "display_name": "Python 3"
    },
    "language_info": {
      "name": "python"
    }
  },
  "cells": [
    {
      "cell_type": "markdown",
      "metadata": {
        "id": "view-in-github",
        "colab_type": "text"
      },
      "source": [
        "<a href=\"https://colab.research.google.com/github/ujjawala1501/Python_Practice_Problems/blob/main/List_Slicing.ipynb\" target=\"_parent\"><img src=\"https://colab.research.google.com/assets/colab-badge.svg\" alt=\"Open In Colab\"/></a>"
      ]
    },
    {
      "cell_type": "markdown",
      "source": [
        "Code to check if there is any element similar in the other array"
      ],
      "metadata": {
        "id": "wpg3AV8Rvgw5"
      }
    },
    {
      "cell_type": "markdown",
      "source": [
        "**SECOND LARGEST**\n",
        "You are given an integer array A. You have to find the second largest element/value in the array or report that no such element exists."
      ],
      "metadata": {
        "id": "k5TXlkxateEp"
      }
    },
    {
      "cell_type": "code",
      "execution_count": null,
      "metadata": {
        "colab": {
          "base_uri": "https://localhost:8080/"
        },
        "id": "tu0t2q-ZsSAv",
        "outputId": "58257bc5-abdd-45ec-b66d-4535b996c128"
      },
      "outputs": [
        {
          "output_type": "stream",
          "name": "stdout",
          "text": [
            "max_val 8\n"
          ]
        },
        {
          "output_type": "execute_result",
          "data": {
            "text/plain": [
              "6"
            ]
          },
          "metadata": {},
          "execution_count": 9
        }
      ],
      "source": [
        "'''A=[2,3,5,1,6,4,8]\n",
        "A.remove(max(A))\n",
        "B=max(A)\n",
        "print(B)'''\n",
        "#ANOTHER APPROACH\n",
        "def solve(A):\n",
        "  max_val=A[0]\n",
        "  sec_max=A[0]\n",
        "  if len(A)>1:\n",
        "    for x in A:\n",
        "      if max_val<x:\n",
        "        max_val=x\n",
        "    A.remove(max_val)\n",
        "    print(\"max_val\",max_val)\n",
        "    for y in A:\n",
        "      if sec_max<y:\n",
        "        sec_max=y\n",
        "    return sec_max\n",
        "  return (-1)\n",
        "\n",
        "solve([2,3,5,1,6,4,8])\n",
        "\n"
      ]
    },
    {
      "cell_type": "markdown",
      "source": [
        "Given an array A, find the difference between the maximum and minimum element of the array.\n",
        "\n",
        "Return the difference between the maximum and minimum element of the array.\n",
        "\n"
      ],
      "metadata": {
        "id": "YbA47t3iz59m"
      }
    },
    {
      "cell_type": "code",
      "source": [
        "def solve(self, A):\n",
        "        max_val=A[0]\n",
        "        min_val=A[0]\n",
        "        MX=0\n",
        "        MN=0\n",
        "        dif=0\n",
        "        for x in A:\n",
        "            if max_val<x:\n",
        "                max_val=x\n",
        "        MX=max_val\n",
        "        for y in A:\n",
        "            if min_val>y:\n",
        "                min_val=y\n",
        "        MN=min_val\n",
        "        return MX-MN\n",
        "\n",
        "#I can also do this by using min() and max() function."
      ],
      "metadata": {
        "id": "3a4Uqd29sw6T"
      },
      "execution_count": null,
      "outputs": []
    },
    {
      "cell_type": "markdown",
      "source": [
        "Which of the options adds the elements 'Dhoni' and 'Virat' to the end of the given list.\n",
        "\n",
        "players=['Jadeja','Rahul','Rohit']. So, the resultant list will be players=['Jadeja','Rahul','Rohit','Dhoni','Virat']"
      ],
      "metadata": {
        "id": "4Td_Ur720Eqw"
      }
    },
    {
      "cell_type": "markdown",
      "source": [
        "Option A)players+=’Dhoni Virat’ gives [‘Jadeja’,’Rahul’,’Rohit’,’D’,’h’,’o’,’n’,’i’,’ ‘,’V’,’i’,’r’,’a’,’t’] as output.\n",
        "Option B)players[len(players):] = [‘Dhoni’, ‘Virat’] gives [‘Jadeja’, ‘Rahul’, ‘Rohit’, ‘Dhoni’, ‘Virat’] as output.\n",
        "Option C)players[-1:] = [‘Dhoni’, ‘Virat’] gives [‘Jadeja’, ‘Rahul’, ‘Dhoni’, ‘Virat’] as output.\n",
        "Option D)players+=[‘Dhoni’, ‘Virat’] gives [‘Jadeja’, ‘Rahul’, ‘Rohit’, ‘Dhoni’, ‘Virat’] as output.\n",
        "\n",
        "Hence, the correct options are players[len(players):] = [‘Dhoni’, ‘Virat’] and players+=[‘Dhoni’, ‘Virat’]."
      ],
      "metadata": {
        "id": "yycnlcWL1FzG"
      }
    },
    {
      "cell_type": "markdown",
      "source": [
        "Match the tasks in the first column with the correct code in the second column.\n",
        "\n",
        "list_1 = [‘Python’ , 24,’Black’, False, -8, ‘Data’]\n",
        "\n",
        "list_2 = [42, 7,’Summer’]\n",
        "\n",
        "ANSWER:\n",
        "a-4,b-1,c-2,d-3"
      ],
      "metadata": {
        "id": "FKP7JFZq20IU"
      }
    },
    {
      "cell_type": "markdown",
      "source": [
        "*What does creating a slice of an object do in Python?*\n",
        "It creates a new object that contains the result of the slice.\n"
      ],
      "metadata": {
        "id": "KSCtJbN43FJS"
      }
    },
    {
      "cell_type": "markdown",
      "source": [
        "**QUESTION 4**\n",
        "\n",
        "Given a sorted integer array A, and an integer B. Find the first and last index of B in A.\n",
        "It is guaranteed that B exists in A.\n",
        "\n",
        "Return an array C of size 2, where C[0] is the first index of B in A and C[1] is the last index of B in A.\n",
        "\n",
        "Note - Indexing of A starts from 0.\n",
        "\n",
        "Output Format\n",
        "**An integer array C of size 2.**\n",
        "\n",
        "\n",
        "Example Input\n",
        "Input 1:\n",
        "A = [-2, -2, 4, 4, 8, 9]\n",
        "B = 4\n",
        "\n",
        "Input 2:\n",
        "A = [1, 9, 9, 9, 10, 21]\n",
        "B = 9\n",
        "\n",
        "\n",
        "Example Output\n",
        "Output 1:\n",
        "C =  [2, 3]\n",
        "\n",
        "Output 2:\n",
        "C = [1, 3]\n",
        "\n",
        "**USE OF del keyword**"
      ],
      "metadata": {
        "id": "OG_e6Fzt-5MV"
      }
    },
    {
      "cell_type": "code",
      "source": [
        "#HIGHLIGHT HERE IS del keyword in slicing\n",
        "from traitlets.traitlets import Bunch\n",
        "A = [1, 9, 9, 9, 10, 21]\n",
        "B = 9\n",
        "C=[]\n",
        "for x in range(len(A)):\n",
        "  if A[x]==B:\n",
        "    C.append(x)\n",
        "if len(C)>2:\n",
        "  del C[1:len(C)-1]\n",
        "print(C)\n"
      ],
      "metadata": {
        "colab": {
          "base_uri": "https://localhost:8080/"
        },
        "id": "GUNGrRRsz-gA",
        "outputId": "4176dc85-1d8b-4248-b312-ae5dcc3546d9"
      },
      "execution_count": null,
      "outputs": [
        {
          "output_type": "stream",
          "name": "stdout",
          "text": [
            "[1, 3]\n"
          ]
        }
      ]
    },
    {
      "cell_type": "markdown",
      "source": [
        "**QUESTION 5**\n",
        "Given a sorted integer array A and an integer B. Find the ceil and floor of B in the array A.\n",
        "\n",
        "- Ceil of an integer X in the array is an element which is just greater than or equal to X.\n",
        "- Floor of an integer X in the array is an element which is just smaller than or equal to X.\n",
        "\n",
        "Return an array of size 2. The first element of the array will be ceil of B and the second element will be the floor.\n",
        "\n",
        "Note - Input is such that the ceil and floor of B always exist in array A.\n",
        "\n",
        "Output Format\n",
        "\n",
        "An integer array C of size 2.\n",
        "\n",
        "\n",
        "Example Input\n",
        "Input 1:\n",
        "A = [-2, 4, 8, 9]\n",
        "B = 0\n",
        "\n",
        "Input 2:\n",
        "A = [1, 9, 21]\n",
        "B = 9\n",
        "\n",
        "Output 1:\n",
        "C =  [4, -2]\n",
        "\n",
        "Output 2:\n",
        "[9, 9]\n",
        "\n",
        "Explanation 1:\n",
        "\n",
        "Just greater or equal element than 0 in A is 4 and\n",
        "\n",
        "just smaller or equal element than 0 is A is -2.\n",
        "\n",
        "Explanation 2:\n",
        "Ceil and floor of 9 will be 9 itself as 9 is present in the array."
      ],
      "metadata": {
        "id": "gGQsot2pFhtO"
      }
    },
    {
      "cell_type": "code",
      "source": [
        "#A=[1,2,3,4,5,6]\n",
        "#A=[-2, 4, 8, 9]\n",
        "A=[1, 9, 21]\n",
        "B=9\n",
        "C=[0,0]\n",
        "for x in range(len(A)):\n",
        "  if A[x]<=B:\n",
        "    C[1]=A[x]  #Do not append the values here \n",
        "  if A[x]>=B:\n",
        "    C[0]=A[x]\n",
        "    break\n",
        "print(C)"
      ],
      "metadata": {
        "id": "Grx2XVMuCJeY",
        "colab": {
          "base_uri": "https://localhost:8080/"
        },
        "outputId": "aba878fd-a7ce-49f0-9555-48aa3c4b67d7"
      },
      "execution_count": null,
      "outputs": [
        {
          "output_type": "stream",
          "name": "stdout",
          "text": [
            "[9, 9]\n"
          ]
        }
      ]
    },
    {
      "cell_type": "markdown",
      "source": [
        "**Question:**\n",
        "Given an array A, check if it is sorted in non decreasing order or not.\n",
        "\n",
        "Input 1:\n",
        " A = [1, 2, 2] \n",
        "Input 2:\n",
        " A = [1, 2, 1] \n",
        "\n",
        "\n",
        "Example Output\n",
        "Output 1:\n",
        " 1\n",
        "Output 2:\n",
        " 0\n",
        "\n",
        " refer-https://www.youtube.com/watch?v=3Tcq_dBhIrQ\n",
        "\n",
        " ***Here catch is to check the current number is less than the previous number***like A[x](current cursor) <=A[x**-**1]\n",
        " **also DO NOT INCLUDE 0 INDEX START FROM 1 **"
      ],
      "metadata": {
        "id": "O8f0cArG9_rP"
      }
    },
    {
      "cell_type": "code",
      "source": [
        "#A=[1,2,1]\n",
        "A=[1,2,2]\n",
        "cnt=True\n",
        "for x in range(len(A)-1):\n",
        "  if A[x]<=A[x-1]:\n",
        "    cnt=False\n",
        "    break\n",
        "print(cnt)\n",
        " \n",
        "'''ANOTHER APPROACH\n",
        "#A=[1,2,2,4,5,5,9]\n",
        "def solve(A):\n",
        "  B=True\n",
        "  for x in range(1,len(A)-1):\n",
        "    if A[x]<A[x-1]:\n",
        "      B=False\n",
        "      break\n",
        "  return B\n",
        "print(solve(A))\n",
        "''' \n",
        "#************MY MISTAKE I included the 0th index as well*******\n",
        "''' def solve(self, A):\n",
        "        flg=1\n",
        "        for x in range(len(A)-1):\n",
        "            if A[x]<A[x-1]:\n",
        "                flg=0\n",
        "                break\n",
        "        return flg\n",
        "            \n",
        "    '''          "
      ],
      "metadata": {
        "id": "tXwpCGQtNR4v",
        "colab": {
          "base_uri": "https://localhost:8080/"
        },
        "outputId": "51e4e3cc-dd92-4bf4-c68f-3a74795acc56"
      },
      "execution_count": null,
      "outputs": [
        {
          "output_type": "stream",
          "name": "stdout",
          "text": [
            "False\n"
          ]
        }
      ]
    },
    {
      "cell_type": "markdown",
      "source": [
        "**QUESTION**\n",
        "There is a list called new_students that contains the names of 3 new students joining the python-beginner course. Which of the following operations are suitable to add the names of all 3 new students at once to the existing student list.\n",
        "\n",
        "old_students = ['Manoj', 'Raju', 'Shiva' ]\n",
        "\n",
        "new_students = ['Akhil', 'Balu', 'Chitra']\n",
        "\n",
        "Output of operation should be: ['Manoj', 'Raju', 'Shiva', 'Akhil', 'Balu', 'Chitra']\n",
        "\n",
        "**ANSWER**\n",
        "\n",
        "old_students.**extend**(new_students)"
      ],
      "metadata": {
        "id": "4ktyC4Ldam6c"
      }
    },
    {
      "cell_type": "code",
      "source": [],
      "metadata": {
        "colab": {
          "base_uri": "https://localhost:8080/"
        },
        "id": "o9DZsc3H-bM_",
        "outputId": "0adfb7e0-5e57-4253-ffa6-19d57898b7e4"
      },
      "execution_count": null,
      "outputs": [
        {
          "output_type": "stream",
          "name": "stdout",
          "text": [
            "True\n"
          ]
        }
      ]
    },
    {
      "cell_type": "markdown",
      "source": [
        "**QUESTION**\n",
        "Given an integer array A, find the inverse of the array A and return it.\n",
        "\n",
        "All the elements of the given array are distinct and elements of the array lie in the range [0, |A|).\n",
        "\n",
        "Note - The inverse of the array means the array elements are swapped with their corresponding indices.\n",
        "\n",
        "Input 1:\n",
        "A = [2, 0, 1]\n",
        "Input 2:\n",
        "A = [3, 1, 0, 2]\n",
        "\n",
        "\n",
        "Example Output\n",
        "Output 1:\n",
        "[1, 2, 0]\n",
        "Output 2:\n",
        "[2, 1, 3, 0]\n",
        "\n",
        "**A[0]=7,A[1]=2 -> A[7]=0,A[2]=1**\n",
        "\n",
        "**Using the enumerate()**: enumerate() allows us to loop through elements as well as the index within the list. This is helpful when we want to traverse only certain index elements in the list based on certain condition(s).\n",
        "my_List = ['i', 'n', 't', 'e', 'r', 'n']\n",
        "*CODE*\n",
        "\n",
        "for i, item in enumerate(my_List):\n",
        "\n",
        "    if i%2 == 0:\n",
        "        print(i, item)"
      ],
      "metadata": {
        "id": "fwgoj68bf98c"
      }
    },
    {
      "cell_type": "code",
      "source": [
        "'''here we need c as exact length of A so that we can add element anywhere in that already occupied space,\n",
        "#after that we will run a while loop ,for loop is also fine now in a temp variable x stored i that is index of A's element so \n",
        "(for the first iteration) x=0 i.e i=0 and y=A[i] i.e A[0] which is = 3,now c[y]=>c[3]=0 that means the empty list c which we created\n",
        " already have space for 3rd element it will put 0'''\n",
        "A=[3, 1, 0, 2]\n",
        "c = [0]*len(A)\n",
        "print(len(c))\n",
        "i = 0\n",
        "while i <= len(A)-1: \n",
        "      x = i\n",
        "      y = A[i]\n",
        "      c[y]=x\n",
        "      i+=1\n",
        "print(c)"
      ],
      "metadata": {
        "colab": {
          "base_uri": "https://localhost:8080/"
        },
        "id": "X3V22R70O72E",
        "outputId": "3ef4f3e2-1a43-49ed-e47f-dbf65f0dec73"
      },
      "execution_count": null,
      "outputs": [
        {
          "output_type": "stream",
          "name": "stdout",
          "text": [
            "4\n",
            "[2, 1, 3, 0]\n"
          ]
        }
      ]
    },
    {
      "cell_type": "code",
      "source": [
        "#append takes whole list and puts it inside the main list\n",
        "'''\n",
        "ex:\n",
        "a=[1,2]\n",
        "b=[2,3]\n",
        "a.append(b)\n",
        "=>[1,2,[2,3]]\n",
        "'''\n",
        "l = []\n",
        "odi = [120, 30, 50]\n",
        "l.extend(odi)\n",
        "print(l)'''\n",
        "l = []\n",
        "odi = [120, 30, 50]\n",
        "l.append(odi)\n",
        "print(l)"
      ],
      "metadata": {
        "colab": {
          "base_uri": "https://localhost:8080/"
        },
        "id": "zDjKvdv1a1Qb",
        "outputId": "1e080d31-3149-4943-c404-5b313d5f8533"
      },
      "execution_count": null,
      "outputs": [
        {
          "output_type": "stream",
          "name": "stdout",
          "text": [
            "[[120, 30, 50]]\n"
          ]
        }
      ]
    },
    {
      "cell_type": "code",
      "source": [],
      "metadata": {
        "id": "neSoL_2YnOkh"
      },
      "execution_count": null,
      "outputs": []
    }
  ]
}